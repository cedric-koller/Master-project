{
 "cells": [
  {
   "cell_type": "markdown",
   "id": "august-ensemble",
   "metadata": {},
   "source": [
    "# 5.5 Results for outer-totalistic rules on random 3-regular graphs"
   ]
  },
  {
   "cell_type": "code",
   "execution_count": 64,
   "id": "biblical-hunger",
   "metadata": {},
   "outputs": [],
   "source": [
    "import numpy as np\n",
    "import matplotlib.pyplot as plt\n",
    "import pandas as pd\n",
    "\n",
    "from tqdm import tqdm\n",
    "\n",
    "from src.population_dynamics import *\n",
    "from utils.rules import *\n",
    "import matplotlib.colors as mcolors\n",
    "import pickle\n",
    "\n",
    "#%matplotlib widget\n",
    "\n",
    "%matplotlib inline\n",
    "\n",
    "plt.rcParams.update({'backend': 'pdf', 'font.size': 14, 'font.family': 'serif', 'text.latex.preamble': r'\\usepackage{gensymb}',  'savefig.format':'pdf', \n",
    "                     'lines.linewidth': 2, 'lines.markersize':10, 'lines.markeredgewidth':2, 'figure.constrained_layout.w_pad': 2, 'figure.autolayout' : True})"
   ]
  },
  {
   "cell_type": "code",
   "execution_count": 2,
   "id": "extraordinary-surgeon",
   "metadata": {},
   "outputs": [],
   "source": [
    "rules=generate_independent_OT_rules(d=3)"
   ]
  },
  {
   "cell_type": "markdown",
   "id": "irish-gravity",
   "metadata": {},
   "source": [
    "for rule in tqdm(rules[119:]):\n",
    "    # print(\"\\n\\n==================== rule: \"+str(rule)+\" ===================\")\n",
    "    NA=AN(rule)\n",
    "    NA.RS_and_1RSB()\n",
    "    with open(\"results/1RSB_results_3_regular/\"+str(rule), \"wb\") as file:\n",
    "        pickle.dump(NA, file)"
   ]
  },
  {
   "cell_type": "code",
   "execution_count": 225,
   "id": "comic-senegal",
   "metadata": {},
   "outputs": [],
   "source": [
    "homo_messages=[np.array([[1.,0],[0,0]]), np.array([[0., 0],[0,1]]), np.array([[0.5, 0.5],[0,0]]), np.array([[0,0],[0.5,0.5]])]"
   ]
  },
  {
   "cell_type": "code",
   "execution_count": 226,
   "id": "executed-designer",
   "metadata": {},
   "outputs": [],
   "source": [
    "number_homogeneous_configurations=np.zeros(len(rules), dtype=np.int8)\n",
    "for i, rule in enumerate(rules):\n",
    "    if rule[0]=='0' or rule[0]=='+':\n",
    "        number_homogeneous_configurations[i]+=1\n",
    "    if rule[-1]=='1' or rule[-1]=='+':\n",
    "        number_homogeneous_configurations[i]+=1"
   ]
  },
  {
   "cell_type": "code",
   "execution_count": 251,
   "id": "rational-hundred",
   "metadata": {},
   "outputs": [
    {
     "name": "stderr",
     "output_type": "stream",
     "text": [
      "100%|████████████████████████████████████████████████████████████████████████████████| 136/136 [00:08<00:00, 16.23it/s]\n"
     ]
    }
   ],
   "source": [
    "locally_contradictory=[]\n",
    "no_stationary=[]\n",
    "only_homo=[]\n",
    "subexp_no_homo=[]\n",
    "subexp_homo=[]\n",
    "exp_no_homo=[]\n",
    "exp_homo=[]\n",
    "for i in tqdm(range(len(rules))):\n",
    "    with open(\"results/1RSB_results_3_regular/\"+str(rules[i]), \"rb\") as file:\n",
    "        AN=pickle.load(file)\n",
    "    with open(\"results/RS_results_3_regular/\"+str(rules[i]), \"rb\") as file:\n",
    "        BP=pickle.load(file)\n",
    "    string='['\n",
    "    for k in range(len(AN.rule)):\n",
    "        string+=AN.rule[k]+','\n",
    "    string=string.rstrip(',')\n",
    "    string+=']'\n",
    "    string+=', '+str(AN.phase)+', '\n",
    "    if AN.phase=='RS':\n",
    "        string+='φ='+str(np.round(BP.phi,3))\n",
    "    elif AN.phase=='d1RSB':\n",
    "        string+='φ_RS='+str(np.round(BP.phi,3))+', ψ='+str(np.round(AN.SP.psi_mean,3))+', φ='+str(np.round(AN.SP.phi_mean,3))+', Σ='+str(np.round(AN.SP.complexity_mean,3))\n",
    "    else:\n",
    "        if np.max(AN.SP.complexity_list)<-1e-4:\n",
    "            string+='φ_RS='+str(np.round(BP.phi,3))+', ψ='+str(np.round(AN.SP.psi_list[np.argmax(AN.SP.complexity_list)],3))+', φ='+str(np.round(AN.SP.phi_list[np.argmax(AN.SP.complexity_list)],3))+', Σ='+str(np.round(np.max(AN.SP.complexity_list),3))\n",
    "        else:\n",
    "            string+='φ_RS='+str(np.round(BP.phi,3))+', ψ_s='+str(np.round(AN.SP.phi_s,3))\n",
    "            \n",
    "        \n",
    "    if AN.phase=='RS' or AN.phase=='d1RSB':\n",
    "        if AN.BP.phi<-10:\n",
    "            locally_contradictory.append(string)\n",
    "        elif AN.BP.phi<-1e-10:\n",
    "            no_stationary.append(string)\n",
    "        elif np.abs(AN.BP.phi)<1e-10:\n",
    "            num_homo=0\n",
    "            num_phi_0=0\n",
    "            for j in range(len(BP.all_phi)):\n",
    "                if abs(BP.all_phi[j])<1e-10:\n",
    "                    num_phi_0+=1\n",
    "                if np.any(np.all(np.round(BP.fixed_points[j],1) == homo_messages, axis=(1,2))):\n",
    "                    num_homo+=1\n",
    "            \n",
    "            if num_homo!=number_homogeneous_configurations[i]:\n",
    "                print(\"Some homogeneous configuration was not found by BP for rule \", rules[i])\n",
    "            if num_homo==len(BP.all_phi):\n",
    "                only_homo.append(string)\n",
    "            else:\n",
    "                if num_phi_0>num_homo and num_homo>0:\n",
    "                    subexp_homo.append(string)\n",
    "                elif num_phi_0>num_homo and num_homo==0:\n",
    "                    subexp_no_homo.append(string)\n",
    "                else:\n",
    "                    only_homo.append(string)          \n",
    "        else:\n",
    "            if number_homogeneous_configurations[i]>0:\n",
    "                exp_homo.append(string)\n",
    "            else:\n",
    "                exp_no_homo.append(string)\n",
    "    else:\n",
    "        if AN.SP.phi_s<-10:\n",
    "            locally_contradictory.append(string)\n",
    "        elif AN.SP.phi_s<1e-10 or np.max(AN.SP.complexity_list)<0:\n",
    "            no_stationary.append(string)\n",
    "        elif np.abs(AN.SP.phi_s)<1e-10:\n",
    "            print('Warning, cannot classify this !')\n",
    "        else:\n",
    "            if AN.rule[0]=='0' or AN.rule[0]=='+' or AN.rule[-1]=='1' or AN.rule[-1]=='+':\n",
    "                exp_homo.append(string)   \n",
    "            else:\n",
    "                exp_no_homo.append(string)"
   ]
  },
  {
   "cell_type": "code",
   "execution_count": 272,
   "id": "dying-planning",
   "metadata": {},
   "outputs": [],
   "source": [
    "dic={'Locally contradictory':locally_contradictory, 'No stationary': no_stationary, 'only homogeneous': only_homo, 'subexponentially many no homogeneous': subexp_no_homo, 'subexponentially many with homogeneous': subexp_homo, 'exponentially many no homogeneous': exp_no_homo, 'exponentially many with homogeneous': exp_homo}"
   ]
  },
  {
   "cell_type": "code",
   "execution_count": 273,
   "id": "alleged-street",
   "metadata": {},
   "outputs": [],
   "source": [
    "df=pd.DataFrame(dict([ (k,pd.Series(v)) for k,v in dic.items() ]))"
   ]
  },
  {
   "cell_type": "code",
   "execution_count": 274,
   "id": "written-charles",
   "metadata": {},
   "outputs": [],
   "source": [
    "pd.options.display.max_colwidth = 1000"
   ]
  },
  {
   "cell_type": "code",
   "execution_count": 275,
   "id": "agreed-anaheim",
   "metadata": {},
   "outputs": [
    {
     "name": "stdout",
     "output_type": "stream",
     "text": [
      "\\begin{table}\n",
      "\\centering\n",
      "\\caption{Classification of outer-totalistic CA in the RS case}\n",
      "\\begin{tabular}{lll}\n",
      "\\toprule\n",
      "   Locally contradictory &                                               No stationary & subexponentially many no homogeneous \\\\\n",
      "\\midrule\n",
      "[-,0,0,0], RS, φ=-28.255 &    [-,0,1,0], s1RSB, φ\\_RS=-0.112, ψ=-0.111, φ=0.0, Σ=-0.111 &                 [1,0,1,0], RS, φ=0.0 \\\\\n",
      "[-,0,0,-], RS, φ=-28.255 &    [-,0,1,-], s1RSB, φ\\_RS=-0.203, ψ=-0.202, φ=0.0, Σ=-0.202 &                                      \\\\\n",
      "[-,0,-,0], RS, φ=-28.255 &    [-,+,-,0], s1RSB, φ\\_RS=-0.077, ψ=-0.077, φ=0.0, Σ=-0.077 &                                      \\\\\n",
      "[-,0,-,-], RS, φ=-28.255 &    [-,+,-,-], s1RSB, φ\\_RS=-0.174, ψ=-0.174, φ=0.0, Σ=-0.174 &                                      \\\\\n",
      "[-,-,0,0], RS, φ=-55.092 &      [-,-,+,0], s1RSB, φ\\_RS=-0.03, ψ=-0.03, φ=-0.0, Σ=-0.03 &                                      \\\\\n",
      "[-,-,0,-], RS, φ=-55.092 &    [-,-,1,0], s1RSB, φ\\_RS=-0.173, ψ=-0.173, φ=0.0, Σ=-0.173 &                                      \\\\\n",
      "[-,-,-,0], RS, φ=-45.364 &   [-,1,0,0], s1RSB, φ\\_RS=-0.001, ψ=-0.001, φ=-0.0, Σ=-0.001 &                                      \\\\\n",
      "[-,-,-,-], RS, φ=-34.762 &    [-,1,0,-], s1RSB, φ\\_RS=-0.203, ψ=-0.203, φ=0.0, Σ=-0.203 &                                      \\\\\n",
      "                         &       [-,1,-,0], s1RSB, φ\\_RS=-0.25, ψ=-0.25, φ=0.0, Σ=-0.25 &                                      \\\\\n",
      "                         &    [1,0,-,0], s1RSB, φ\\_RS=-0.076, ψ=-0.076, φ=0.0, Σ=-0.076 &                                      \\\\\n",
      "                         & [1,-,0,0], s1RSB, φ\\_RS=-0.019, ψ=-0.019, φ=-0.001, Σ=-0.018 &                                      \\\\\n",
      "                         &    [1,-,-,0], s1RSB, φ\\_RS=-0.347, ψ=-0.346, φ=0.0, Σ=-0.346 &                                      \\\\\n",
      "                         &                                                             &                                      \\\\\n",
      "                         &                                                             &                                      \\\\\n",
      "                         &                                                             &                                      \\\\\n",
      "                         &                                                             &                                      \\\\\n",
      "                         &                                                             &                                      \\\\\n",
      "                         &                                                             &                                      \\\\\n",
      "                         &                                                             &                                      \\\\\n",
      "                         &                                                             &                                      \\\\\n",
      "                         &                                                             &                                      \\\\\n",
      "                         &                                                             &                                      \\\\\n",
      "                         &                                                             &                                      \\\\\n",
      "                         &                                                             &                                      \\\\\n",
      "                         &                                                             &                                      \\\\\n",
      "                         &                                                             &                                      \\\\\n",
      "                         &                                                             &                                      \\\\\n",
      "                         &                                                             &                                      \\\\\n",
      "                         &                                                             &                                      \\\\\n",
      "                         &                                                             &                                      \\\\\n",
      "                         &                                                             &                                      \\\\\n",
      "                         &                                                             &                                      \\\\\n",
      "                         &                                                             &                                      \\\\\n",
      "                         &                                                             &                                      \\\\\n",
      "                         &                                                             &                                      \\\\\n",
      "                         &                                                             &                                      \\\\\n",
      "                         &                                                             &                                      \\\\\n",
      "                         &                                                             &                                      \\\\\n",
      "                         &                                                             &                                      \\\\\n",
      "                         &                                                             &                                      \\\\\n",
      "                         &                                                             &                                      \\\\\n",
      "                         &                                                             &                                      \\\\\n",
      "                         &                                                             &                                      \\\\\n",
      "                         &                                                             &                                      \\\\\n",
      "                         &                                                             &                                      \\\\\n",
      "                         &                                                             &                                      \\\\\n",
      "                         &                                                             &                                      \\\\\n",
      "                         &                                                             &                                      \\\\\n",
      "                         &                                                             &                                      \\\\\n",
      "                         &                                                             &                                      \\\\\n",
      "                         &                                                             &                                      \\\\\n",
      "                         &                                                             &                                      \\\\\n",
      "                         &                                                             &                                      \\\\\n",
      "                         &                                                             &                                      \\\\\n",
      "                         &                                                             &                                      \\\\\n",
      "                         &                                                             &                                      \\\\\n",
      "                         &                                                             &                                      \\\\\n",
      "                         &                                                             &                                      \\\\\n",
      "                         &                                                             &                                      \\\\\n",
      "                         &                                                             &                                      \\\\\n",
      "                         &                                                             &                                      \\\\\n",
      "                         &                                                             &                                      \\\\\n",
      "                         &                                                             &                                      \\\\\n",
      "                         &                                                             &                                      \\\\\n",
      "\\bottomrule\n",
      "\\end{tabular}\n",
      "\\end{table}\n",
      "\n"
     ]
    },
    {
     "name": "stderr",
     "output_type": "stream",
     "text": [
      "<ipython-input-275-9e4ab57c51cd>:1: FutureWarning: In future versions `DataFrame.to_latex` is expected to utilise the base implementation of `Styler.to_latex` for formatting and rendering. The arguments signature may therefore change. It is recommended instead to use `DataFrame.style.to_latex` which also contains additional functionality.\n",
      "  print(df[['Locally contradictory','No stationary', 'subexponentially many no homogeneous']].to_latex(index=False, caption='Classification of outer-totalistic CA in the RS case', longtable=False, na_rep=''))\n"
     ]
    }
   ],
   "source": [
    "print(df[['Locally contradictory','No stationary', 'subexponentially many no homogeneous']].to_latex(index=False, caption='Classification of outer-totalistic CA in the RS case', longtable=False, na_rep=''))"
   ]
  },
  {
   "cell_type": "code",
   "execution_count": 278,
   "id": "pressed-destination",
   "metadata": {},
   "outputs": [
    {
     "name": "stdout",
     "output_type": "stream",
     "text": [
      "\\begin{table}\n",
      "\\centering\n",
      "\\caption{Classification of outer-totalistic CA in the RS case}\n",
      "\\begin{tabular}{lll}\n",
      "\\toprule\n",
      "     only homogeneous & subexponentially many with homogeneous &                        exponentially many no homogeneous \\\\\n",
      "\\midrule\n",
      " [0,0,0,0], RS, φ=0.0 &                   [0,1,0,1], RS, φ=0.0 & [-,0,+,0], d1RSB, φ\\_RS=0.102, ψ=0.102, φ=-0.001, Σ=0.103 \\\\\n",
      " [0,0,0,+], RS, φ=0.0 &                   [+,-,+,-], RS, φ=0.0 & [-,0,+,-], d1RSB, φ\\_RS=0.052, ψ=0.052, φ=-0.001, Σ=0.053 \\\\\n",
      " [0,0,0,-], RS, φ=0.0 &                                        &                                   [-,+,0,0], RS, φ=0.219 \\\\\n",
      " [0,0,0,1], RS, φ=0.0 &                                        &                                   [-,+,0,-], RS, φ=0.154 \\\\\n",
      " [0,0,-,0], RS, φ=0.0 &                                        &                                   [-,+,+,0], RS, φ=0.488 \\\\\n",
      " [0,0,-,+], RS, φ=0.0 &                                        &                                   [-,+,+,-], RS, φ=0.405 \\\\\n",
      " [0,0,-,-], RS, φ=0.0 &                                        &  [-,+,1,0], d1RSB, φ\\_RS=0.215, ψ=0.215, φ=0.081, Σ=0.134 \\\\\n",
      " [0,0,-,1], RS, φ=0.0 &                                        &                                   [-,1,+,0], RS, φ=0.355 \\\\\n",
      "[0,-,0,0], RS, φ=-0.0 &                                        &                                   [-,1,1,0], RS, φ=0.189 \\\\\n",
      " [0,-,0,+], RS, φ=0.0 &                                        &                                   [1,0,0,0], RS, φ=0.262 \\\\\n",
      "[0,-,0,-], RS, φ=-0.0 &                                        &  [1,0,+,0], d1RSB, φ\\_RS=0.284, ψ=0.284, φ=0.141, Σ=0.143 \\\\\n",
      " [0,-,0,1], RS, φ=0.0 &                                        &                                   [1,+,0,0], RS, φ=0.441 \\\\\n",
      " [0,-,+,0], RS, φ=0.0 &                                        &                                   [1,+,+,0], RS, φ=0.583 \\\\\n",
      " [0,-,+,-], RS, φ=0.0 &                                        &   [1,+,-,0], d1RSB, φ\\_RS=0.104, ψ=0.102, φ=-0.0, Σ=0.103 \\\\\n",
      "[0,-,-,0], RS, φ=-0.0 &                                        &                                   [1,1,0,0], RS, φ=0.235 \\\\\n",
      " [0,-,-,+], RS, φ=0.0 &                                        &                                                          \\\\\n",
      "[0,-,-,-], RS, φ=-0.0 &                                        &                                                          \\\\\n",
      " [0,-,-,1], RS, φ=0.0 &                                        &                                                          \\\\\n",
      " [0,-,1,0], RS, φ=0.0 &                                        &                                                          \\\\\n",
      "[0,-,1,-], RS, φ=-0.0 &                                        &                                                          \\\\\n",
      " [0,1,0,-], RS, φ=0.0 &                                        &                                                          \\\\\n",
      " [0,1,-,0], RS, φ=0.0 &                                        &                                                          \\\\\n",
      " [0,1,-,+], RS, φ=0.0 &                                        &                                                          \\\\\n",
      " [0,1,-,-], RS, φ=0.0 &                                        &                                                          \\\\\n",
      "[0,1,1,-], RS, φ=-0.0 &                                        &                                                          \\\\\n",
      " [+,-,0,-], RS, φ=0.0 &                                        &                                                          \\\\\n",
      " [+,-,-,0], RS, φ=0.0 &                                        &                                                          \\\\\n",
      " [+,-,-,+], RS, φ=0.0 &                                        &                                                          \\\\\n",
      "[+,-,-,-], RS, φ=-0.0 &                                        &                                                          \\\\\n",
      " [+,-,1,0], RS, φ=0.0 &                                        &                                                          \\\\\n",
      "[+,-,1,-], RS, φ=-0.0 &                                        &                                                          \\\\\n",
      " [+,1,-,0], RS, φ=0.0 &                                        &                                                          \\\\\n",
      " [+,1,-,-], RS, φ=0.0 &                                        &                                                          \\\\\n",
      "[+,1,1,-], RS, φ=-0.0 &                                        &                                                          \\\\\n",
      "                      &                                        &                                                          \\\\\n",
      "                      &                                        &                                                          \\\\\n",
      "                      &                                        &                                                          \\\\\n",
      "                      &                                        &                                                          \\\\\n",
      "                      &                                        &                                                          \\\\\n",
      "                      &                                        &                                                          \\\\\n",
      "                      &                                        &                                                          \\\\\n",
      "                      &                                        &                                                          \\\\\n",
      "                      &                                        &                                                          \\\\\n",
      "                      &                                        &                                                          \\\\\n",
      "                      &                                        &                                                          \\\\\n",
      "                      &                                        &                                                          \\\\\n",
      "                      &                                        &                                                          \\\\\n",
      "                      &                                        &                                                          \\\\\n",
      "                      &                                        &                                                          \\\\\n",
      "                      &                                        &                                                          \\\\\n",
      "                      &                                        &                                                          \\\\\n",
      "                      &                                        &                                                          \\\\\n",
      "                      &                                        &                                                          \\\\\n",
      "                      &                                        &                                                          \\\\\n",
      "                      &                                        &                                                          \\\\\n",
      "                      &                                        &                                                          \\\\\n",
      "                      &                                        &                                                          \\\\\n",
      "                      &                                        &                                                          \\\\\n",
      "                      &                                        &                                                          \\\\\n",
      "                      &                                        &                                                          \\\\\n",
      "                      &                                        &                                                          \\\\\n",
      "                      &                                        &                                                          \\\\\n",
      "                      &                                        &                                                          \\\\\n",
      "                      &                                        &                                                          \\\\\n",
      "\\bottomrule\n",
      "\\end{tabular}\n",
      "\\end{table}\n",
      "\n"
     ]
    },
    {
     "name": "stderr",
     "output_type": "stream",
     "text": [
      "<ipython-input-278-51ceee3c1c2f>:1: FutureWarning: In future versions `DataFrame.to_latex` is expected to utilise the base implementation of `Styler.to_latex` for formatting and rendering. The arguments signature may therefore change. It is recommended instead to use `DataFrame.style.to_latex` which also contains additional functionality.\n",
      "  print(df[['only homogeneous','subexponentially many with homogeneous','exponentially many no homogeneous']].to_latex(index=False, caption='Classification of outer-totalistic CA in the RS case', longtable=False, na_rep=''))\n"
     ]
    }
   ],
   "source": [
    "print(df[['only homogeneous','subexponentially many with homogeneous','exponentially many no homogeneous']].to_latex(index=False, caption='Classification of outer-totalistic CA in the RS case', longtable=False, na_rep=''))"
   ]
  },
  {
   "cell_type": "code",
   "execution_count": 324,
   "id": "invalid-employer",
   "metadata": {},
   "outputs": [],
   "source": [
    "dic2={'Exponentially many with homogeneous': exp_homo[0:22], '-':exp_homo[22:43], '--': exp_homo[43:]}"
   ]
  },
  {
   "cell_type": "code",
   "execution_count": 325,
   "id": "billion-girlfriend",
   "metadata": {},
   "outputs": [],
   "source": [
    "df2=pd.DataFrame(dict([ (k,pd.Series(v)) for k,v in dic2.items() ]))"
   ]
  },
  {
   "cell_type": "code",
   "execution_count": 326,
   "id": "egyptian-growth",
   "metadata": {},
   "outputs": [
    {
     "data": {
      "text/html": [
       "<div>\n",
       "<style scoped>\n",
       "    .dataframe tbody tr th:only-of-type {\n",
       "        vertical-align: middle;\n",
       "    }\n",
       "\n",
       "    .dataframe tbody tr th {\n",
       "        vertical-align: top;\n",
       "    }\n",
       "\n",
       "    .dataframe thead th {\n",
       "        text-align: right;\n",
       "    }\n",
       "</style>\n",
       "<table border=\"1\" class=\"dataframe\">\n",
       "  <thead>\n",
       "    <tr style=\"text-align: right;\">\n",
       "      <th></th>\n",
       "      <th>Exponentially many with homogeneous</th>\n",
       "      <th>-</th>\n",
       "      <th>--</th>\n",
       "    </tr>\n",
       "  </thead>\n",
       "  <tbody>\n",
       "    <tr>\n",
       "      <th>0</th>\n",
       "      <td>[0,0,+,0], d1RSB, φ_RS=0.205, ψ=0.204, φ=-0.0, Σ=0.204</td>\n",
       "      <td>[0,+,1,-], RS, φ=0.335</td>\n",
       "      <td>[+,0,1,-], RS, φ=0.283</td>\n",
       "    </tr>\n",
       "    <tr>\n",
       "      <th>1</th>\n",
       "      <td>[0,0,+,+], RS, φ=0.413</td>\n",
       "      <td>[0,-,+,+], RS, φ=0.346</td>\n",
       "      <td>[+,+,0,0], RS, φ=0.551</td>\n",
       "    </tr>\n",
       "    <tr>\n",
       "      <th>2</th>\n",
       "      <td>[0,0,+,-], d1RSB, φ_RS=0.192, ψ=0.192, φ=-0.0, Σ=0.192</td>\n",
       "      <td>[0,-,1,+], RS, φ=0.283</td>\n",
       "      <td>[+,+,0,+], RS, φ=0.56</td>\n",
       "    </tr>\n",
       "    <tr>\n",
       "      <th>3</th>\n",
       "      <td>[0,0,+,1], RS, φ=0.379</td>\n",
       "      <td>[0,1,0,0], d1RSB, φ_RS=0.042, ψ=0.042, φ=0.01, Σ=0.031</td>\n",
       "      <td>[+,+,0,-], RS, φ=0.514</td>\n",
       "    </tr>\n",
       "    <tr>\n",
       "      <th>4</th>\n",
       "      <td>[0,0,1,0], d1RSB, φ_RS=0.12, ψ=0.121, φ=0.001, Σ=0.12</td>\n",
       "      <td>[0,1,0,+], d1RSB, φ_RS=0.13, ψ=0.13, φ=0.007, Σ=0.123</td>\n",
       "      <td>[+,+,+,0], RS, φ=0.649</td>\n",
       "    </tr>\n",
       "    <tr>\n",
       "      <th>5</th>\n",
       "      <td>[0,0,1,+], RS, φ=0.283</td>\n",
       "      <td>[0,1,+,0], RS, φ=0.371</td>\n",
       "      <td>[+,+,+,+], RS, φ=0.693</td>\n",
       "    </tr>\n",
       "    <tr>\n",
       "      <th>6</th>\n",
       "      <td>[0,0,1,-], d1RSB, φ_RS=0.116, ψ=0.116, φ=0.001, Σ=0.115</td>\n",
       "      <td>[0,1,+,+], RS, φ=0.522</td>\n",
       "      <td>[+,+,+,-], RS, φ=0.598</td>\n",
       "    </tr>\n",
       "    <tr>\n",
       "      <th>7</th>\n",
       "      <td>[0,0,1,1], RS, φ=0.235</td>\n",
       "      <td>[0,1,+,-], RS, φ=0.211</td>\n",
       "      <td>[+,+,-,0], RS, φ=0.361</td>\n",
       "    </tr>\n",
       "    <tr>\n",
       "      <th>8</th>\n",
       "      <td>[0,+,0,0], RS, φ=0.367</td>\n",
       "      <td>[0,1,1,0], RS, φ=0.189</td>\n",
       "      <td>[+,+,-,+], RS, φ=0.366</td>\n",
       "    </tr>\n",
       "    <tr>\n",
       "      <th>9</th>\n",
       "      <td>[0,+,0,+], RS, φ=0.397</td>\n",
       "      <td>[0,1,1,+], RS, φ=0.413</td>\n",
       "      <td>[+,+,-,-], RS, φ=0.341</td>\n",
       "    </tr>\n",
       "    <tr>\n",
       "      <th>10</th>\n",
       "      <td>[0,+,0,-], RS, φ=0.348</td>\n",
       "      <td>[+,0,0,0], RS, φ=0.435</td>\n",
       "      <td>[+,+,1,0], RS, φ=0.423</td>\n",
       "    </tr>\n",
       "    <tr>\n",
       "      <th>11</th>\n",
       "      <td>[0,+,0,1], RS, φ=0.374</td>\n",
       "      <td>[+,0,0,+], RS, φ=0.435</td>\n",
       "      <td>[+,+,1,-], RS, φ=0.39</td>\n",
       "    </tr>\n",
       "    <tr>\n",
       "      <th>12</th>\n",
       "      <td>[0,+,+,0], RS, φ=0.555</td>\n",
       "      <td>[+,0,0,-], RS, φ=0.413</td>\n",
       "      <td>[+,-,0,0], s1RSB, φ_RS=0.045, ψ_s=0.045</td>\n",
       "    </tr>\n",
       "    <tr>\n",
       "      <th>13</th>\n",
       "      <td>[0,+,+,+], RS, φ=0.635</td>\n",
       "      <td>[+,0,+,0], RS, φ=0.435</td>\n",
       "      <td>[+,-,0,+], s1RSB, φ_RS=0.045, ψ_s=0.045</td>\n",
       "    </tr>\n",
       "    <tr>\n",
       "      <th>14</th>\n",
       "      <td>[0,+,+,-], RS, φ=0.513</td>\n",
       "      <td>[+,0,+,+], RS, φ=0.462</td>\n",
       "      <td>[+,-,+,0], d1RSB, φ_RS=0.13, ψ=0.13, φ=0.026, Σ=0.105</td>\n",
       "    </tr>\n",
       "    <tr>\n",
       "      <th>15</th>\n",
       "      <td>[0,+,+,1], RS, φ=0.583</td>\n",
       "      <td>[+,0,+,-], RS, φ=0.413</td>\n",
       "      <td>[+,1,0,0], RS, φ=0.268</td>\n",
       "    </tr>\n",
       "    <tr>\n",
       "      <th>16</th>\n",
       "      <td>[0,+,-,0], RS, φ=0.244</td>\n",
       "      <td>[+,0,-,0], RS, φ=0.294</td>\n",
       "      <td>[+,1,0,+], RS, φ=0.296</td>\n",
       "    </tr>\n",
       "    <tr>\n",
       "      <th>17</th>\n",
       "      <td>[0,+,-,+], RS, φ=0.26</td>\n",
       "      <td>[+,0,-,+], RS, φ=0.294</td>\n",
       "      <td>[+,1,0,-], d1RSB, φ_RS=0.104, ψ=0.104, φ=0.0, Σ=0.104</td>\n",
       "    </tr>\n",
       "    <tr>\n",
       "      <th>18</th>\n",
       "      <td>[0,+,-,-], RS, φ=0.236</td>\n",
       "      <td>[+,0,-,-], RS, φ=0.283</td>\n",
       "      <td>[+,1,+,0], RS, φ=0.458</td>\n",
       "    </tr>\n",
       "    <tr>\n",
       "      <th>19</th>\n",
       "      <td>[0,+,-,1], RS, φ=0.25</td>\n",
       "      <td>[+,0,1,0], RS, φ=0.294</td>\n",
       "      <td>[+,1,+,-], RS, φ=0.278</td>\n",
       "    </tr>\n",
       "    <tr>\n",
       "      <th>20</th>\n",
       "      <td>[0,+,1,0], RS, φ=0.36</td>\n",
       "      <td>[+,0,1,+], RS, φ=0.296</td>\n",
       "      <td>[+,1,1,0], RS, φ=0.262</td>\n",
       "    </tr>\n",
       "    <tr>\n",
       "      <th>21</th>\n",
       "      <td>[0,+,1,+], RS, φ=0.427</td>\n",
       "      <td>NaN</td>\n",
       "      <td>NaN</td>\n",
       "    </tr>\n",
       "  </tbody>\n",
       "</table>\n",
       "</div>"
      ],
      "text/plain": [
       "                        Exponentially many with homogeneous                                                       -                                                     --\n",
       "0    [0,0,+,0], d1RSB, φ_RS=0.205, ψ=0.204, φ=-0.0, Σ=0.204                                  [0,+,1,-], RS, φ=0.335                                 [+,0,1,-], RS, φ=0.283\n",
       "1                                    [0,0,+,+], RS, φ=0.413                                  [0,-,+,+], RS, φ=0.346                                 [+,+,0,0], RS, φ=0.551\n",
       "2    [0,0,+,-], d1RSB, φ_RS=0.192, ψ=0.192, φ=-0.0, Σ=0.192                                  [0,-,1,+], RS, φ=0.283                                  [+,+,0,+], RS, φ=0.56\n",
       "3                                    [0,0,+,1], RS, φ=0.379  [0,1,0,0], d1RSB, φ_RS=0.042, ψ=0.042, φ=0.01, Σ=0.031                                 [+,+,0,-], RS, φ=0.514\n",
       "4     [0,0,1,0], d1RSB, φ_RS=0.12, ψ=0.121, φ=0.001, Σ=0.12   [0,1,0,+], d1RSB, φ_RS=0.13, ψ=0.13, φ=0.007, Σ=0.123                                 [+,+,+,0], RS, φ=0.649\n",
       "5                                    [0,0,1,+], RS, φ=0.283                                  [0,1,+,0], RS, φ=0.371                                 [+,+,+,+], RS, φ=0.693\n",
       "6   [0,0,1,-], d1RSB, φ_RS=0.116, ψ=0.116, φ=0.001, Σ=0.115                                  [0,1,+,+], RS, φ=0.522                                 [+,+,+,-], RS, φ=0.598\n",
       "7                                    [0,0,1,1], RS, φ=0.235                                  [0,1,+,-], RS, φ=0.211                                 [+,+,-,0], RS, φ=0.361\n",
       "8                                    [0,+,0,0], RS, φ=0.367                                  [0,1,1,0], RS, φ=0.189                                 [+,+,-,+], RS, φ=0.366\n",
       "9                                    [0,+,0,+], RS, φ=0.397                                  [0,1,1,+], RS, φ=0.413                                 [+,+,-,-], RS, φ=0.341\n",
       "10                                   [0,+,0,-], RS, φ=0.348                                  [+,0,0,0], RS, φ=0.435                                 [+,+,1,0], RS, φ=0.423\n",
       "11                                   [0,+,0,1], RS, φ=0.374                                  [+,0,0,+], RS, φ=0.435                                  [+,+,1,-], RS, φ=0.39\n",
       "12                                   [0,+,+,0], RS, φ=0.555                                  [+,0,0,-], RS, φ=0.413                [+,-,0,0], s1RSB, φ_RS=0.045, ψ_s=0.045\n",
       "13                                   [0,+,+,+], RS, φ=0.635                                  [+,0,+,0], RS, φ=0.435                [+,-,0,+], s1RSB, φ_RS=0.045, ψ_s=0.045\n",
       "14                                   [0,+,+,-], RS, φ=0.513                                  [+,0,+,+], RS, φ=0.462  [+,-,+,0], d1RSB, φ_RS=0.13, ψ=0.13, φ=0.026, Σ=0.105\n",
       "15                                   [0,+,+,1], RS, φ=0.583                                  [+,0,+,-], RS, φ=0.413                                 [+,1,0,0], RS, φ=0.268\n",
       "16                                   [0,+,-,0], RS, φ=0.244                                  [+,0,-,0], RS, φ=0.294                                 [+,1,0,+], RS, φ=0.296\n",
       "17                                    [0,+,-,+], RS, φ=0.26                                  [+,0,-,+], RS, φ=0.294  [+,1,0,-], d1RSB, φ_RS=0.104, ψ=0.104, φ=0.0, Σ=0.104\n",
       "18                                   [0,+,-,-], RS, φ=0.236                                  [+,0,-,-], RS, φ=0.283                                 [+,1,+,0], RS, φ=0.458\n",
       "19                                    [0,+,-,1], RS, φ=0.25                                  [+,0,1,0], RS, φ=0.294                                 [+,1,+,-], RS, φ=0.278\n",
       "20                                    [0,+,1,0], RS, φ=0.36                                  [+,0,1,+], RS, φ=0.296                                 [+,1,1,0], RS, φ=0.262\n",
       "21                                   [0,+,1,+], RS, φ=0.427                                                     NaN                                                    NaN"
      ]
     },
     "execution_count": 326,
     "metadata": {},
     "output_type": "execute_result"
    }
   ],
   "source": [
    "df2"
   ]
  },
  {
   "cell_type": "code",
   "execution_count": 327,
   "id": "economic-african",
   "metadata": {},
   "outputs": [
    {
     "name": "stdout",
     "output_type": "stream",
     "text": [
      "\\begin{table}\n",
      "\\centering\n",
      "\\caption{Classification of outer-totalistic CA in the RS case}\n",
      "\\begin{tabular}{lll}\n",
      "\\toprule\n",
      "                    Exponentially many with homogeneous &                                                      - &                                                    -- \\\\\n",
      "\\midrule\n",
      " [0,0,+,0], d1RSB, φ\\_RS=0.205, ψ=0.204, φ=-0.0, Σ=0.204 &                                 [0,+,1,-], RS, φ=0.335 &                                [+,0,1,-], RS, φ=0.283 \\\\\n",
      "                                 [0,0,+,+], RS, φ=0.413 &                                 [0,-,+,+], RS, φ=0.346 &                                [+,+,0,0], RS, φ=0.551 \\\\\n",
      " [0,0,+,-], d1RSB, φ\\_RS=0.192, ψ=0.192, φ=-0.0, Σ=0.192 &                                 [0,-,1,+], RS, φ=0.283 &                                 [+,+,0,+], RS, φ=0.56 \\\\\n",
      "                                 [0,0,+,1], RS, φ=0.379 & [0,1,0,0], d1RSB, φ\\_RS=0.042, ψ=0.042, φ=0.01, Σ=0.031 &                                [+,+,0,-], RS, φ=0.514 \\\\\n",
      "  [0,0,1,0], d1RSB, φ\\_RS=0.12, ψ=0.121, φ=0.001, Σ=0.12 &  [0,1,0,+], d1RSB, φ\\_RS=0.13, ψ=0.13, φ=0.007, Σ=0.123 &                                [+,+,+,0], RS, φ=0.649 \\\\\n",
      "                                 [0,0,1,+], RS, φ=0.283 &                                 [0,1,+,0], RS, φ=0.371 &                                [+,+,+,+], RS, φ=0.693 \\\\\n",
      "[0,0,1,-], d1RSB, φ\\_RS=0.116, ψ=0.116, φ=0.001, Σ=0.115 &                                 [0,1,+,+], RS, φ=0.522 &                                [+,+,+,-], RS, φ=0.598 \\\\\n",
      "                                 [0,0,1,1], RS, φ=0.235 &                                 [0,1,+,-], RS, φ=0.211 &                                [+,+,-,0], RS, φ=0.361 \\\\\n",
      "                                 [0,+,0,0], RS, φ=0.367 &                                 [0,1,1,0], RS, φ=0.189 &                                [+,+,-,+], RS, φ=0.366 \\\\\n",
      "                                 [0,+,0,+], RS, φ=0.397 &                                 [0,1,1,+], RS, φ=0.413 &                                [+,+,-,-], RS, φ=0.341 \\\\\n",
      "                                 [0,+,0,-], RS, φ=0.348 &                                 [+,0,0,0], RS, φ=0.435 &                                [+,+,1,0], RS, φ=0.423 \\\\\n",
      "                                 [0,+,0,1], RS, φ=0.374 &                                 [+,0,0,+], RS, φ=0.435 &                                 [+,+,1,-], RS, φ=0.39 \\\\\n",
      "                                 [0,+,+,0], RS, φ=0.555 &                                 [+,0,0,-], RS, φ=0.413 &               [+,-,0,0], s1RSB, φ\\_RS=0.045, ψ\\_s=0.045 \\\\\n",
      "                                 [0,+,+,+], RS, φ=0.635 &                                 [+,0,+,0], RS, φ=0.435 &               [+,-,0,+], s1RSB, φ\\_RS=0.045, ψ\\_s=0.045 \\\\\n",
      "                                 [0,+,+,-], RS, φ=0.513 &                                 [+,0,+,+], RS, φ=0.462 & [+,-,+,0], d1RSB, φ\\_RS=0.13, ψ=0.13, φ=0.026, Σ=0.105 \\\\\n",
      "                                 [0,+,+,1], RS, φ=0.583 &                                 [+,0,+,-], RS, φ=0.413 &                                [+,1,0,0], RS, φ=0.268 \\\\\n",
      "                                 [0,+,-,0], RS, φ=0.244 &                                 [+,0,-,0], RS, φ=0.294 &                                [+,1,0,+], RS, φ=0.296 \\\\\n",
      "                                  [0,+,-,+], RS, φ=0.26 &                                 [+,0,-,+], RS, φ=0.294 & [+,1,0,-], d1RSB, φ\\_RS=0.104, ψ=0.104, φ=0.0, Σ=0.104 \\\\\n",
      "                                 [0,+,-,-], RS, φ=0.236 &                                 [+,0,-,-], RS, φ=0.283 &                                [+,1,+,0], RS, φ=0.458 \\\\\n",
      "                                  [0,+,-,1], RS, φ=0.25 &                                 [+,0,1,0], RS, φ=0.294 &                                [+,1,+,-], RS, φ=0.278 \\\\\n",
      "                                  [0,+,1,0], RS, φ=0.36 &                                 [+,0,1,+], RS, φ=0.296 &                                [+,1,1,0], RS, φ=0.262 \\\\\n",
      "                                 [0,+,1,+], RS, φ=0.427 &                                                        &                                                       \\\\\n",
      "\\bottomrule\n",
      "\\end{tabular}\n",
      "\\end{table}\n",
      "\n"
     ]
    },
    {
     "name": "stderr",
     "output_type": "stream",
     "text": [
      "<ipython-input-327-a132921a2261>:1: FutureWarning: In future versions `DataFrame.to_latex` is expected to utilise the base implementation of `Styler.to_latex` for formatting and rendering. The arguments signature may therefore change. It is recommended instead to use `DataFrame.style.to_latex` which also contains additional functionality.\n",
      "  print(df2.to_latex(index=False, caption='Classification of outer-totalistic CA in the RS case', longtable=False, na_rep=''))\n"
     ]
    }
   ],
   "source": [
    "print(df2.to_latex(index=False, caption='Classification of outer-totalistic CA in the RS case', longtable=False, na_rep=''))"
   ]
  },
  {
   "cell_type": "code",
   "execution_count": 49,
   "id": "fundamental-northeast",
   "metadata": {},
   "outputs": [],
   "source": [
    "rule=['+','-','0','0']\n",
    "with open(\"results/1RSB_results_3_regular/\"+str(rule), \"rb\") as file:\n",
    "    AN=pickle.load(file)"
   ]
  },
  {
   "cell_type": "code",
   "execution_count": 44,
   "id": "acceptable-narrow",
   "metadata": {},
   "outputs": [
    {
     "data": {
      "image/png": "[encoded data removed]",
      "text/plain": [
       "<Figure size 576x360 with 4 Axes>"
      ]
     },
     "metadata": {
      "needs_background": "light"
     },
     "output_type": "display_data"
    }
   ],
   "source": [
    "AN.SP.draw_population()\n",
    "plt.rcParams[\"figure.figsize\"] = (8,5)\n",
    "plt.rcParams['font.size']=10\n",
    "#plt.savefig('figures/frozen.pdf')\n",
    "#plt.show()"
   ]
  },
  {
   "cell_type": "code",
   "execution_count": 240,
   "id": "needed-afternoon",
   "metadata": {},
   "outputs": [
    {
     "data": {
      "text/plain": [
       "[0.0, 0.0]"
      ]
     },
     "execution_count": 240,
     "metadata": {},
     "output_type": "execute_result"
    }
   ],
   "source": [
    "AN.all_phi"
   ]
  },
  {
   "cell_type": "code",
   "execution_count": 200,
   "id": "romance-intake",
   "metadata": {},
   "outputs": [
    {
     "data": {
      "text/plain": [
       "0.04453638244130016"
      ]
     },
     "execution_count": 200,
     "metadata": {},
     "output_type": "execute_result"
    }
   ],
   "source": [
    "AN.SP.phi_s"
   ]
  },
  {
   "cell_type": "code",
   "execution_count": 63,
   "id": "sensitive-sewing",
   "metadata": {},
   "outputs": [
    {
     "data": {
      "image/png": "[encoded data removed]",
      "text/plain": [
       "<Figure size 432x288 with 1 Axes>"
      ]
     },
     "metadata": {
      "needs_background": "light"
     },
     "output_type": "display_data"
    }
   ],
   "source": [
    "plt.rcParams.update({'backend': 'pdf', 'font.size': 18, 'font.family': 'serif', 'text.latex.preamble': r'\\usepackage{gensymb}',  'savefig.format':'pdf', \n",
    "                     'lines.linewidth': 3, 'lines.markersize':6, 'lines.markeredgewidth':2, 'figure.constrained_layout.w_pad': 2, 'figure.autolayout' : True})\n",
    "AN.SP.draw_sigma_phi()\n",
    "plt.savefig('figures/sigma_phi_+-00')"
   ]
  }
 ],
 "metadata": {
  "kernelspec": {
   "display_name": "Python 3",
   "language": "python",
   "name": "python3"
  },
  "language_info": {
   "codemirror_mode": {
    "name": "ipython",
    "version": 3
   },
   "file_extension": ".py",
   "mimetype": "text/x-python",
   "name": "python",
   "nbconvert_exporter": "python",
   "pygments_lexer": "ipython3",
   "version": "3.8.5"
  }
 },
 "nbformat": 4,
 "nbformat_minor": 5
}
