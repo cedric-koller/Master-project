{
 "cells": [
  {
   "cell_type": "markdown",
   "id": "stopped-wallet",
   "metadata": {},
   "source": [
    "# 5.4 Reproduction of results from the literature"
   ]
  },
  {
   "cell_type": "code",
   "execution_count": 44,
   "id": "approximate-watts",
   "metadata": {},
   "outputs": [],
   "source": [
    "import numpy as np\n",
    "import matplotlib.pyplot as plt\n",
    "import pandas as pd\n",
    "\n",
    "from tqdm import tqdm\n",
    "\n",
    "from src.population_dynamics import *\n",
    "from utils.rules import *\n",
    "import matplotlib.colors as mcolors\n",
    "import pickle\n",
    "\n",
    "%matplotlib inline\n",
    "\n",
    "plt.rcParams.update({'backend': 'pdf', 'font.size': 18, 'font.family': 'serif', 'text.latex.preamble': r'\\usepackage{gensymb}',  'savefig.format':'pdf', \n",
    "                     'lines.linewidth': 2, 'lines.markersize':8, 'lines.markeredgewidth':2, 'figure.constrained_layout.w_pad': 2, 'figure.autolayout' : True})"
   ]
  },
  {
   "cell_type": "code",
   "execution_count": 22,
   "id": "fewer-recovery",
   "metadata": {},
   "outputs": [],
   "source": [
    "rule=['+','+','0','0']"
   ]
  },
  {
   "cell_type": "code",
   "execution_count": 40,
   "id": "sunset-being",
   "metadata": {},
   "outputs": [
    {
     "name": "stderr",
     "output_type": "stream",
     "text": [
      "100%|██████████████████████████████████████████████████████████████████████████████████| 30/30 [19:49<00:00, 39.64s/it]\n"
     ]
    }
   ],
   "source": [
    "mu_list=np.linspace(6.4,6.8,30)\n",
    "pop=population_dynamics_OT_torch(rule, mu=6)\n",
    "for mu in tqdm(mu_list):\n",
    "    pop_old=pop.population\n",
    "    pop=population_dynamics_OT_torch(rule, m=1, mu=mu, damping_parameter=0.9, planted_messages=pop_old, fraction_planted_messages=0.5)\n",
    "    pop.run()\n",
    "    with open(\"results/reproduction_Rivoire/\"+str(rule)+'mu'+str(mu), \"wb\") as file:\n",
    "        pickle.dump(pop, file)    "
   ]
  },
  {
   "cell_type": "code",
   "execution_count": 41,
   "id": "reflected-application",
   "metadata": {},
   "outputs": [],
   "source": [
    "complexity_list=[]\n",
    "complexity_list_std=[]\n",
    "for mu in mu_list:\n",
    "    with open(\"results/reproduction_Rivoire/\"+str(rule)+'mu'+str(mu), \"rb\") as file:\n",
    "        pop=pickle.load(file)\n",
    "    complexity_list.append(pop.complexity_mean)\n",
    "    complexity_list_std.append(pop.complexity_std)"
   ]
  },
  {
   "cell_type": "code",
   "execution_count": 43,
   "id": "retired-benjamin",
   "metadata": {},
   "outputs": [
    {
     "data": {
      "image/png": "[encoded data removed]",
      "text/plain": [
       "<Figure size 432x288 with 1 Axes>"
      ]
     },
     "metadata": {
      "needs_background": "light"
     },
     "output_type": "display_data"
    }
   ],
   "source": [
    "fig, ax=plt.subplots()\n",
    "ax.errorbar(mu_list, complexity_list, yerr=complexity_list_std, fmt='.', capsize=3)\n",
    "ax.set_xlabel(r'$\\mu$')\n",
    "ax.set_ylabel(r'$\\Sigma$');\n",
    "plt.savefig('figures/sigma_vs_mu_Rivoire_smaller.pdf')"
   ]
  },
  {
   "cell_type": "code",
   "execution_count": 2,
   "id": "designed-criticism",
   "metadata": {},
   "outputs": [],
   "source": [
    "rho_s_list=[]\n",
    "rho_d_list=[]\n",
    "rules=[['+','+','0','0'], ['+','+','0','0','0'], ['+','+','0','0','0', '0'], ['+','+','0','0','0', '0', '0'], ['+','+','+','0'], ['+','+','+','0', '0'], ['+','+','+','0', '0', '0'], ['+','+','+','0', '0', '0', '0'], ['+','+','+','+', '0'], ['+','+','+','+', '0', '0'], ['+','+','+','+', '0', '0', '0'], ['+','+','+','+', '+', '0'], ['+','+','+','+', '+', '0', '0'], ['+','+','+','+', '+', '+', '0']]"
   ]
  },
  {
   "cell_type": "code",
   "execution_count": null,
   "id": "super-browse",
   "metadata": {},
   "outputs": [],
   "source": [
    "for rule in tqdm(rules):\n",
    "    pop=population_dynamics_OT_torch(rule, m=1, mu=15)\n",
    "    pop.compute_static_transition()\n",
    "    with open(\"results/reproduction_Rivoire/\"+str(rule), \"wb\") as file:\n",
    "        pickle.dump(pop, file)"
   ]
  },
  {
   "cell_type": "code",
   "execution_count": 10,
   "id": "precise-reservoir",
   "metadata": {},
   "outputs": [],
   "source": [
    "with open(\"results/reproduction_Rivoire/\"+str(['+','+','0','0']), \"rb\") as file:\n",
    "    pop=pickle.load(file)"
   ]
  },
  {
   "cell_type": "code",
   "execution_count": 21,
   "id": "multiple-karma",
   "metadata": {},
   "outputs": [
    {
     "data": {
      "image/png": "[encoded data removed]",
      "text/plain": [
       "<Figure size 432x288 with 1 Axes>"
      ]
     },
     "metadata": {
      "needs_background": "light"
     },
     "output_type": "display_data"
    }
   ],
   "source": [
    "pop.draw_sigma_rho()\n",
    "plt.savefig('figures/sigma_vs_rho_Rivoire.pdf')"
   ]
  },
  {
   "cell_type": "code",
   "execution_count": 5,
   "id": "different-interaction",
   "metadata": {},
   "outputs": [],
   "source": [
    "rho_s_list=[]\n",
    "for rule in rules:\n",
    "    with open(\"results/reproduction_Rivoire/\"+str(rule), \"rb\") as file:\n",
    "        pop=pickle.load(file)\n",
    "    rho_s_list.append(pop.rho_s)"
   ]
  },
  {
   "cell_type": "code",
   "execution_count": 6,
   "id": "formed-inquiry",
   "metadata": {},
   "outputs": [],
   "source": [
    "rho_s_list_Rivoire=[0.575742,0.517288,0.473384,0.438382,0.735050,0.636187,0.573723,0.527301,0.776695,0.680316,0.617160,0.805338,0.713982,0.826487]"
   ]
  },
  {
   "cell_type": "code",
   "execution_count": 7,
   "id": "indonesian-vampire",
   "metadata": {},
   "outputs": [],
   "source": [
    "dic={'rho_s Rivoire': rho_s_list_Rivoire, 'rho_s numerical': rho_s_list}"
   ]
  },
  {
   "cell_type": "code",
   "execution_count": 9,
   "id": "welcome-payment",
   "metadata": {},
   "outputs": [
    {
     "data": {
      "text/html": [
       "<div>\n",
       "<style scoped>\n",
       "    .dataframe tbody tr th:only-of-type {\n",
       "        vertical-align: middle;\n",
       "    }\n",
       "\n",
       "    .dataframe tbody tr th {\n",
       "        vertical-align: top;\n",
       "    }\n",
       "\n",
       "    .dataframe thead th {\n",
       "        text-align: right;\n",
       "    }\n",
       "</style>\n",
       "<table border=\"1\" class=\"dataframe\">\n",
       "  <thead>\n",
       "    <tr style=\"text-align: right;\">\n",
       "      <th></th>\n",
       "      <th>rho_s Rivoire</th>\n",
       "      <th>rho_s numerical</th>\n",
       "    </tr>\n",
       "  </thead>\n",
       "  <tbody>\n",
       "    <tr>\n",
       "      <th>0</th>\n",
       "      <td>0.575742</td>\n",
       "      <td>0.575812</td>\n",
       "    </tr>\n",
       "    <tr>\n",
       "      <th>1</th>\n",
       "      <td>0.517288</td>\n",
       "      <td>0.517173</td>\n",
       "    </tr>\n",
       "    <tr>\n",
       "      <th>2</th>\n",
       "      <td>0.473384</td>\n",
       "      <td>0.473240</td>\n",
       "    </tr>\n",
       "    <tr>\n",
       "      <th>3</th>\n",
       "      <td>0.438382</td>\n",
       "      <td>0.437935</td>\n",
       "    </tr>\n",
       "    <tr>\n",
       "      <th>4</th>\n",
       "      <td>0.735050</td>\n",
       "      <td>0.735988</td>\n",
       "    </tr>\n",
       "    <tr>\n",
       "      <th>5</th>\n",
       "      <td>0.636187</td>\n",
       "      <td>0.636184</td>\n",
       "    </tr>\n",
       "    <tr>\n",
       "      <th>6</th>\n",
       "      <td>0.573723</td>\n",
       "      <td>0.573878</td>\n",
       "    </tr>\n",
       "    <tr>\n",
       "      <th>7</th>\n",
       "      <td>0.527301</td>\n",
       "      <td>0.527340</td>\n",
       "    </tr>\n",
       "    <tr>\n",
       "      <th>8</th>\n",
       "      <td>0.776695</td>\n",
       "      <td>0.776789</td>\n",
       "    </tr>\n",
       "    <tr>\n",
       "      <th>9</th>\n",
       "      <td>0.680316</td>\n",
       "      <td>0.680319</td>\n",
       "    </tr>\n",
       "    <tr>\n",
       "      <th>10</th>\n",
       "      <td>0.617160</td>\n",
       "      <td>0.617182</td>\n",
       "    </tr>\n",
       "    <tr>\n",
       "      <th>11</th>\n",
       "      <td>0.805338</td>\n",
       "      <td>0.805289</td>\n",
       "    </tr>\n",
       "    <tr>\n",
       "      <th>12</th>\n",
       "      <td>0.713982</td>\n",
       "      <td>0.713846</td>\n",
       "    </tr>\n",
       "    <tr>\n",
       "      <th>13</th>\n",
       "      <td>0.826487</td>\n",
       "      <td>0.826373</td>\n",
       "    </tr>\n",
       "  </tbody>\n",
       "</table>\n",
       "</div>"
      ],
      "text/plain": [
       "    rho_s Rivoire  rho_s numerical\n",
       "0        0.575742         0.575812\n",
       "1        0.517288         0.517173\n",
       "2        0.473384         0.473240\n",
       "3        0.438382         0.437935\n",
       "4        0.735050         0.735988\n",
       "5        0.636187         0.636184\n",
       "6        0.573723         0.573878\n",
       "7        0.527301         0.527340\n",
       "8        0.776695         0.776789\n",
       "9        0.680316         0.680319\n",
       "10       0.617160         0.617182\n",
       "11       0.805338         0.805289\n",
       "12       0.713982         0.713846\n",
       "13       0.826487         0.826373"
      ]
     },
     "execution_count": 9,
     "metadata": {},
     "output_type": "execute_result"
    }
   ],
   "source": [
    "pd.DataFrame(dic)"
   ]
  }
 ],
 "metadata": {
  "kernelspec": {
   "display_name": "Python 3",
   "language": "python",
   "name": "python3"
  },
  "language_info": {
   "codemirror_mode": {
    "name": "ipython",
    "version": 3
   },
   "file_extension": ".py",
   "mimetype": "text/x-python",
   "name": "python",
   "nbconvert_exporter": "python",
   "pygments_lexer": "ipython3",
   "version": "3.8.5"
  }
 },
 "nbformat": 4,
 "nbformat_minor": 5
}
