{
 "cells": [
  {
   "cell_type": "markdown",
   "id": "independent-silicon",
   "metadata": {},
   "source": [
    "# 4.7 Results for outer-totalistic rules on random 3-regular graphs"
   ]
  },
  {
   "cell_type": "code",
   "execution_count": 32,
   "id": "threaded-there",
   "metadata": {},
   "outputs": [],
   "source": [
    "import numpy as np\n",
    "import matplotlib.pyplot as plt\n",
    "\n",
    "from tqdm import tqdm\n",
    "\n",
    "from src.BP import *\n",
    "from utils.rules import *\n",
    "\n",
    "import pickle\n",
    "\n",
    "plt.rcParams.update({'backend': 'pdf', 'font.size': 14, 'font.family': 'serif', 'text.latex.preamble': r'\\usepackage{gensymb}',  'savefig.format':'pdf', \n",
    "                     'lines.linewidth': 2, 'lines.markersize':10, 'lines.markeredgewidth':2, 'figure.constrained_layout.w_pad': 2, 'figure.autolayout' : True})\n",
    "\n",
    "%matplotlib inline"
   ]
  },
  {
   "cell_type": "markdown",
   "id": "understood-annex",
   "metadata": {},
   "source": [
    "# RS classification on 3-regular graphs"
   ]
  },
  {
   "cell_type": "code",
   "execution_count": 4,
   "id": "powered-guyana",
   "metadata": {},
   "outputs": [],
   "source": [
    "rules=generate_independent_OT_rules(d=3)"
   ]
  },
  {
   "cell_type": "code",
   "execution_count": 3,
   "id": "superb-palestine",
   "metadata": {},
   "outputs": [
    {
     "name": "stderr",
     "output_type": "stream",
     "text": [
      " 55%|████████████████████████████████████████████▋                                    | 75/136 [08:02<04:58,  4.90s/it]"
     ]
    },
    {
     "name": "stdout",
     "output_type": "stream",
     "text": [
      "Warning, entropy > log(2) even if fixed point physical !\n",
      "No physical fixed point found for rule ['+', '+', '+', '+'] !\n"
     ]
    },
    {
     "name": "stderr",
     "output_type": "stream",
     "text": [
      " 74%|███████████████████████████████████████████████████████████▍                    | 101/136 [10:50<04:29,  7.70s/it]"
     ]
    },
    {
     "name": "stdout",
     "output_type": "stream",
     "text": [
      "No physical fixed point found for rule ['-', '0', '0', '0'] !\n"
     ]
    },
    {
     "name": "stderr",
     "output_type": "stream",
     "text": [
      " 75%|████████████████████████████████████████████████████████████                    | 102/136 [10:54<03:50,  6.78s/it]"
     ]
    },
    {
     "name": "stdout",
     "output_type": "stream",
     "text": [
      "No physical fixed point found for rule ['-', '0', '0', '-'] !\n"
     ]
    },
    {
     "name": "stderr",
     "output_type": "stream",
     "text": [
      " 77%|█████████████████████████████████████████████████████████████▊                  | 105/136 [11:09<02:50,  5.51s/it]"
     ]
    },
    {
     "name": "stdout",
     "output_type": "stream",
     "text": [
      "No physical fixed point found for rule ['-', '0', '-', '0'] !\n"
     ]
    },
    {
     "name": "stderr",
     "output_type": "stream",
     "text": [
      " 78%|██████████████████████████████████████████████████████████████▎                 | 106/136 [11:13<02:37,  5.25s/it]"
     ]
    },
    {
     "name": "stdout",
     "output_type": "stream",
     "text": [
      "No physical fixed point found for rule ['-', '0', '-', '-'] !\n"
     ]
    },
    {
     "name": "stderr",
     "output_type": "stream",
     "text": [
      " 85%|████████████████████████████████████████████████████████████████████▏           | 116/136 [11:58<01:34,  4.73s/it]"
     ]
    },
    {
     "name": "stdout",
     "output_type": "stream",
     "text": [
      "No physical fixed point found for rule ['-', '-', '0', '0'] !\n"
     ]
    },
    {
     "name": "stderr",
     "output_type": "stream",
     "text": [
      " 86%|████████████████████████████████████████████████████████████████████▊           | 117/136 [12:03<01:28,  4.67s/it]"
     ]
    },
    {
     "name": "stdout",
     "output_type": "stream",
     "text": [
      "No physical fixed point found for rule ['-', '-', '0', '-'] !\n"
     ]
    },
    {
     "name": "stderr",
     "output_type": "stream",
     "text": [
      " 88%|██████████████████████████████████████████████████████████████████████          | 119/136 [12:11<01:14,  4.36s/it]"
     ]
    },
    {
     "name": "stdout",
     "output_type": "stream",
     "text": [
      "No physical fixed point found for rule ['-', '-', '-', '0'] !\n"
     ]
    },
    {
     "name": "stderr",
     "output_type": "stream",
     "text": [
      "100%|████████████████████████████████████████████████████████████████████████████████| 136/136 [13:18<00:00,  5.87s/it]\n"
     ]
    }
   ],
   "source": [
    "fixed_points=[]\n",
    "phi=[]\n",
    "for rule in tqdm(rules):\n",
    "    rule_BP=BP_OT(rule)\n",
    "    rule_BP.find_all_fixed_points_torch()\n",
    "    fixed_points.append(rule_BP.fixed_points)\n",
    "    phi.append(rule_BP.all_phi)\n",
    "    with open(\"results/RS_results_3_regular/\"+str(rule), \"wb\") as file:\n",
    "        pickle.dump(rule_BP, file)"
   ]
  },
  {
   "cell_type": "code",
   "execution_count": 4,
   "id": "excessive-sponsorship",
   "metadata": {},
   "outputs": [],
   "source": [
    "with open(\"results/RS_results_3_regular/fixed_points_list\", \"wb\") as file:\n",
    "    pickle.dump(fixed_points, file)\n",
    "with open(\"results/RS_results_3_regular/phi_list\", \"wb\") as file:\n",
    "    pickle.dump(phi, file)"
   ]
  },
  {
   "cell_type": "code",
   "execution_count": 5,
   "id": "active-astrology",
   "metadata": {},
   "outputs": [],
   "source": [
    "with open(\"results/RS_results_3_regular/fixed_points_list\", \"rb\") as file:\n",
    "    fixed_points=pickle.load(file)\n",
    "with open(\"results/RS_results_3_regular/phi_list\", \"rb\") as file:\n",
    "    phi=pickle.load(file)"
   ]
  },
  {
   "cell_type": "code",
   "execution_count": 8,
   "id": "younger-fault",
   "metadata": {},
   "outputs": [],
   "source": [
    "number_homogeneous_configurations=np.zeros(len(rules), dtype=np.int8)\n",
    "for i, rule in enumerate(rules):\n",
    "    if rule[0]=='0' or rule[0]=='+':\n",
    "        number_homogeneous_configurations[i]+=1\n",
    "    if rule[-1]=='1' or rule[-1]=='+':\n",
    "        number_homogeneous_configurations[i]+=1"
   ]
  },
  {
   "cell_type": "code",
   "execution_count": 6,
   "id": "expanded-explanation",
   "metadata": {},
   "outputs": [],
   "source": [
    "homo_messages=[np.array([[1.,0],[0,0]]), np.array([[0., 0],[0,1]]), np.array([[0.5, 0.5],[0,0]]), np.array([[0,0],[0.5,0.5]])]"
   ]
  },
  {
   "cell_type": "code",
   "execution_count": 24,
   "id": "fatal-spoke",
   "metadata": {},
   "outputs": [],
   "source": [
    "epsilon=1e-12\n",
    "locally_contradictory=[]\n",
    "no_stationary=[]\n",
    "only_homo=[]\n",
    "subexponentially_many_no_homo=[]\n",
    "subexponentially_many_homo=[]\n",
    "exponentially_many_no_homogeneous=[]\n",
    "exponentially_many_with_homogeneous=[]\n",
    "for i in range(len(rules)):\n",
    "    BP=None\n",
    "    with open(\"results/RS_results_3_regular/\"+str(rules[i]), \"rb\") as file:\n",
    "        BP=pickle.load(file)\n",
    "              \n",
    "    if BP.phi<0-epsilon:\n",
    "        if BP.phi<-10:\n",
    "            locally_contradictory.append((rules[i], np.round(BP.phi,4), len(BP.all_phi)))\n",
    "        else:\n",
    "            no_stationary.append((rules[i], np.round(BP.phi,4), len(BP.all_phi)))\n",
    "    elif np.abs(BP.phi)<epsilon:\n",
    "        num_homo=0\n",
    "        num_phi_0=0\n",
    "        for j in range(len(BP.all_phi)):\n",
    "            if abs(BP.all_phi[j])<epsilon:\n",
    "                num_phi_0+=1\n",
    "            if np.any(np.all(np.round(BP.fixed_points[j],1) == homo_messages, axis=(1,2))):\n",
    "                num_homo+=1\n",
    "        if num_homo!=number_homogeneous_configurations[i]:\n",
    "            print(\"Some homogeneous configuration was not found by BP for rule \", rules[i])\n",
    "        if num_homo==len(BP.all_phi):\n",
    "            only_homo.append((rules[i], np.round(BP.phi,4), len(BP.all_phi)))\n",
    "        else:\n",
    "            if num_phi_0>num_homo and num_homo>0:\n",
    "                subexponentially_many_homo.append((rules[i], np.round(BP.phi,4), len(BP.all_phi)))\n",
    "            elif num_phi_0>num_homo and num_homo==0:\n",
    "                subexponentially_many_no_homo.append((rules[i], np.round(BP.phi,4), len(BP.all_phi)))\n",
    "            else:\n",
    "                only_homo.append((rules[i], np.round(BP.phi,4), len(BP.all_phi)))\n",
    "                \n",
    "    elif BP.phi>epsilon and number_homogeneous_configurations[i]==0:\n",
    "        exponentially_many_no_homogeneous.append((rules[i], np.round(BP.phi,4), len(BP.all_phi)))\n",
    "    elif BP.phi>epsilon and number_homogeneous_configurations[i]>0:\n",
    "        exponentially_many_with_homogeneous.append((rules[i], np.round(BP.phi,4), len(BP.all_phi)))\n",
    "    else:\n",
    "        print(\"problem ....\")"
   ]
  },
  {
   "cell_type": "code",
   "execution_count": 25,
   "id": "continuous-garlic",
   "metadata": {},
   "outputs": [],
   "source": [
    "data={'Locally contradictory': locally_contradictory, 'No stationary': no_stationary, 'only homogeneous': only_homo, 'Subexponentially many no homogeneous': subexponentially_many_no_homo, 'Subexponentially many with homogeneous':subexponentially_many_homo, 'Exponentially many no homogeneous': exponentially_many_no_homogeneous, 'Exponentially many with homogeneous': exponentially_many_with_homogeneous}"
   ]
  },
  {
   "cell_type": "code",
   "execution_count": 26,
   "id": "heated-opening",
   "metadata": {},
   "outputs": [],
   "source": [
    "df=pd.DataFrame(dict([ (k,pd.Series(v)) for k,v in data.items() ]))"
   ]
  },
  {
   "cell_type": "code",
   "execution_count": 19,
   "id": "welsh-parallel",
   "metadata": {},
   "outputs": [
    {
     "data": {
      "text/html": [
       "<div>\n",
       "<style scoped>\n",
       "    .dataframe tbody tr th:only-of-type {\n",
       "        vertical-align: middle;\n",
       "    }\n",
       "\n",
       "    .dataframe tbody tr th {\n",
       "        vertical-align: top;\n",
       "    }\n",
       "\n",
       "    .dataframe thead th {\n",
       "        text-align: right;\n",
       "    }\n",
       "</style>\n",
       "<table border=\"1\" class=\"dataframe\">\n",
       "  <thead>\n",
       "    <tr style=\"text-align: right;\">\n",
       "      <th></th>\n",
       "      <th>Locally contradictory</th>\n",
       "      <th>No stationary</th>\n",
       "      <th>only homogeneous</th>\n",
       "      <th>Subexponentially many no homogeneous</th>\n",
       "      <th>Subexponentially many with homogeneous</th>\n",
       "      <th>Exponentially many no homogeneous</th>\n",
       "      <th>Exponentially many with homogeneous</th>\n",
       "    </tr>\n",
       "  </thead>\n",
       "  <tbody>\n",
       "    <tr>\n",
       "      <th>0</th>\n",
       "      <td>([-, 0, 0, 0], -28.2552, 1)</td>\n",
       "      <td>NaN</td>\n",
       "      <td>([0, 0, 0, 0], 0.0, 1)</td>\n",
       "      <td>([1, 0, 1, 0], 0.0, 4)</td>\n",
       "      <td>([0, 1, 0, 1], 0.0, 3)</td>\n",
       "      <td>([-, 0, +, 0], 0.1016, 2)</td>\n",
       "      <td>([0, 0, +, 0], 0.2046, 2)</td>\n",
       "    </tr>\n",
       "    <tr>\n",
       "      <th>1</th>\n",
       "      <td>([-, 0, 0, -], -28.2552, 1)</td>\n",
       "      <td>NaN</td>\n",
       "      <td>([0, 0, 0, +], 0.0, 2)</td>\n",
       "      <td>NaN</td>\n",
       "      <td>([+, -, +, -], 0.0, 3)</td>\n",
       "      <td>([-, 0, +, -], 0.0523, 2)</td>\n",
       "      <td>([0, 0, +, +], 0.4133, 2)</td>\n",
       "    </tr>\n",
       "    <tr>\n",
       "      <th>2</th>\n",
       "      <td>([-, 0, -, 0], -28.2552, 1)</td>\n",
       "      <td>NaN</td>\n",
       "      <td>([0, 0, 0, -], 0.0, 1)</td>\n",
       "      <td>NaN</td>\n",
       "      <td>NaN</td>\n",
       "      <td>([-, +, 0, 0], 0.2191, 1)</td>\n",
       "      <td>([0, 0, +, -], 0.1925, 2)</td>\n",
       "    </tr>\n",
       "    <tr>\n",
       "      <th>3</th>\n",
       "      <td>([-, 0, -, -], -28.2552, 1)</td>\n",
       "      <td>NaN</td>\n",
       "      <td>([0, 0, 0, 1], 0.0, 2)</td>\n",
       "      <td>NaN</td>\n",
       "      <td>NaN</td>\n",
       "      <td>([-, +, 0, -], 0.1541, 1)</td>\n",
       "      <td>([0, 0, +, 1], 0.3793, 2)</td>\n",
       "    </tr>\n",
       "    <tr>\n",
       "      <th>4</th>\n",
       "      <td>([-, 0, 1, 0], -0.1116, 3)</td>\n",
       "      <td>NaN</td>\n",
       "      <td>([0, 0, -, 0], 0.0, 2)</td>\n",
       "      <td>NaN</td>\n",
       "      <td>NaN</td>\n",
       "      <td>([-, +, +, 0], 0.488, 1)</td>\n",
       "      <td>([0, 0, 1, 0], 0.1204, 4)</td>\n",
       "    </tr>\n",
       "    <tr>\n",
       "      <th>...</th>\n",
       "      <td>...</td>\n",
       "      <td>...</td>\n",
       "      <td>...</td>\n",
       "      <td>...</td>\n",
       "      <td>...</td>\n",
       "      <td>...</td>\n",
       "      <td>...</td>\n",
       "    </tr>\n",
       "    <tr>\n",
       "      <th>59</th>\n",
       "      <td>NaN</td>\n",
       "      <td>NaN</td>\n",
       "      <td>NaN</td>\n",
       "      <td>NaN</td>\n",
       "      <td>NaN</td>\n",
       "      <td>NaN</td>\n",
       "      <td>([+, 1, 0, +], 0.2964, 3)</td>\n",
       "    </tr>\n",
       "    <tr>\n",
       "      <th>60</th>\n",
       "      <td>NaN</td>\n",
       "      <td>NaN</td>\n",
       "      <td>NaN</td>\n",
       "      <td>NaN</td>\n",
       "      <td>NaN</td>\n",
       "      <td>NaN</td>\n",
       "      <td>([+, 1, 0, -], 0.1038, 2)</td>\n",
       "    </tr>\n",
       "    <tr>\n",
       "      <th>61</th>\n",
       "      <td>NaN</td>\n",
       "      <td>NaN</td>\n",
       "      <td>NaN</td>\n",
       "      <td>NaN</td>\n",
       "      <td>NaN</td>\n",
       "      <td>NaN</td>\n",
       "      <td>([+, 1, +, 0], 0.4584, 2)</td>\n",
       "    </tr>\n",
       "    <tr>\n",
       "      <th>62</th>\n",
       "      <td>NaN</td>\n",
       "      <td>NaN</td>\n",
       "      <td>NaN</td>\n",
       "      <td>NaN</td>\n",
       "      <td>NaN</td>\n",
       "      <td>NaN</td>\n",
       "      <td>([+, 1, +, -], 0.2782, 2)</td>\n",
       "    </tr>\n",
       "    <tr>\n",
       "      <th>63</th>\n",
       "      <td>NaN</td>\n",
       "      <td>NaN</td>\n",
       "      <td>NaN</td>\n",
       "      <td>NaN</td>\n",
       "      <td>NaN</td>\n",
       "      <td>NaN</td>\n",
       "      <td>([+, 1, 1, 0], 0.2617, 2)</td>\n",
       "    </tr>\n",
       "  </tbody>\n",
       "</table>\n",
       "<p>64 rows × 7 columns</p>\n",
       "</div>"
      ],
      "text/plain": [
       "          Locally contradictory  No stationary        only homogeneous  \\\n",
       "0   ([-, 0, 0, 0], -28.2552, 1)            NaN  ([0, 0, 0, 0], 0.0, 1)   \n",
       "1   ([-, 0, 0, -], -28.2552, 1)            NaN  ([0, 0, 0, +], 0.0, 2)   \n",
       "2   ([-, 0, -, 0], -28.2552, 1)            NaN  ([0, 0, 0, -], 0.0, 1)   \n",
       "3   ([-, 0, -, -], -28.2552, 1)            NaN  ([0, 0, 0, 1], 0.0, 2)   \n",
       "4    ([-, 0, 1, 0], -0.1116, 3)            NaN  ([0, 0, -, 0], 0.0, 2)   \n",
       "..                          ...            ...                     ...   \n",
       "59                          NaN            NaN                     NaN   \n",
       "60                          NaN            NaN                     NaN   \n",
       "61                          NaN            NaN                     NaN   \n",
       "62                          NaN            NaN                     NaN   \n",
       "63                          NaN            NaN                     NaN   \n",
       "\n",
       "   Subexponentially many no homogeneous  \\\n",
       "0                ([1, 0, 1, 0], 0.0, 4)   \n",
       "1                                   NaN   \n",
       "2                                   NaN   \n",
       "3                                   NaN   \n",
       "4                                   NaN   \n",
       "..                                  ...   \n",
       "59                                  NaN   \n",
       "60                                  NaN   \n",
       "61                                  NaN   \n",
       "62                                  NaN   \n",
       "63                                  NaN   \n",
       "\n",
       "   Subexponentially many with homogeneous Exponentially many no homogeneous  \\\n",
       "0                  ([0, 1, 0, 1], 0.0, 3)         ([-, 0, +, 0], 0.1016, 2)   \n",
       "1                  ([+, -, +, -], 0.0, 3)         ([-, 0, +, -], 0.0523, 2)   \n",
       "2                                     NaN         ([-, +, 0, 0], 0.2191, 1)   \n",
       "3                                     NaN         ([-, +, 0, -], 0.1541, 1)   \n",
       "4                                     NaN          ([-, +, +, 0], 0.488, 1)   \n",
       "..                                    ...                               ...   \n",
       "59                                    NaN                               NaN   \n",
       "60                                    NaN                               NaN   \n",
       "61                                    NaN                               NaN   \n",
       "62                                    NaN                               NaN   \n",
       "63                                    NaN                               NaN   \n",
       "\n",
       "   Exponentially many with homogeneous  \n",
       "0            ([0, 0, +, 0], 0.2046, 2)  \n",
       "1            ([0, 0, +, +], 0.4133, 2)  \n",
       "2            ([0, 0, +, -], 0.1925, 2)  \n",
       "3            ([0, 0, +, 1], 0.3793, 2)  \n",
       "4            ([0, 0, 1, 0], 0.1204, 4)  \n",
       "..                                 ...  \n",
       "59           ([+, 1, 0, +], 0.2964, 3)  \n",
       "60           ([+, 1, 0, -], 0.1038, 2)  \n",
       "61           ([+, 1, +, 0], 0.4584, 2)  \n",
       "62           ([+, 1, +, -], 0.2782, 2)  \n",
       "63           ([+, 1, 1, 0], 0.2617, 2)  \n",
       "\n",
       "[64 rows x 7 columns]"
      ]
     },
     "execution_count": 19,
     "metadata": {},
     "output_type": "execute_result"
    }
   ],
   "source": [
    "df"
   ]
  },
  {
   "cell_type": "code",
   "execution_count": 29,
   "id": "considerable-jason",
   "metadata": {},
   "outputs": [
    {
     "name": "stdout",
     "output_type": "stream",
     "text": [
      "\\begin{table}\n",
      "\\centering\n",
      "\\caption{Classification of outer-totalistic CA in the RS case}\n",
      "\\begin{tabular}{lll}\n",
      "\\toprule\n",
      "      Locally contradictory &              No stationary & Subexponentially many no homogeneous \\\\\n",
      "\\midrule\n",
      "([-, 0, 0, 0], -28.2552, 1) & ([-, 0, 1, 0], -0.1116, 3) &               ([1, 0, 1, 0], 0.0, 4) \\\\\n",
      "([-, 0, 0, -], -28.2552, 1) & ([-, 0, 1, -], -0.2027, 3) &                                      \\\\\n",
      "([-, 0, -, 0], -28.2552, 1) & ([-, +, -, 0], -0.0774, 2) &                                      \\\\\n",
      "([-, 0, -, -], -28.2552, 1) & ([-, +, -, -], -0.1744, 2) &                                      \\\\\n",
      "([-, -, 0, 0], -55.0918, 1) & ([-, -, +, 0], -0.0303, 2) &                                      \\\\\n",
      "([-, -, 0, -], -55.0918, 1) & ([-, -, 1, 0], -0.1733, 2) &                                      \\\\\n",
      "([-, -, -, 0], -45.3644, 1) & ([-, 1, 0, 0], -0.0012, 1) &                                      \\\\\n",
      "([-, -, -, -], -34.7619, 1) & ([-, 1, 0, -], -0.2027, 1) &                                      \\\\\n",
      "                            & ([-, 1, -, 0], -0.2502, 1) &                                      \\\\\n",
      "                            &  ([1, 0, -, 0], -0.076, 2) &                                      \\\\\n",
      "                            & ([1, -, 0, 0], -0.0189, 1) &                                      \\\\\n",
      "                            & ([1, -, -, 0], -0.3466, 1) &                                      \\\\\n",
      "                            &                            &                                      \\\\\n",
      "                            &                            &                                      \\\\\n",
      "                            &                            &                                      \\\\\n",
      "                            &                            &                                      \\\\\n",
      "                            &                            &                                      \\\\\n",
      "                            &                            &                                      \\\\\n",
      "                            &                            &                                      \\\\\n",
      "                            &                            &                                      \\\\\n",
      "                            &                            &                                      \\\\\n",
      "                            &                            &                                      \\\\\n",
      "                            &                            &                                      \\\\\n",
      "                            &                            &                                      \\\\\n",
      "                            &                            &                                      \\\\\n",
      "                            &                            &                                      \\\\\n",
      "                            &                            &                                      \\\\\n",
      "                            &                            &                                      \\\\\n",
      "                            &                            &                                      \\\\\n",
      "                            &                            &                                      \\\\\n",
      "                            &                            &                                      \\\\\n",
      "                            &                            &                                      \\\\\n",
      "                            &                            &                                      \\\\\n",
      "                            &                            &                                      \\\\\n",
      "                            &                            &                                      \\\\\n",
      "                            &                            &                                      \\\\\n",
      "                            &                            &                                      \\\\\n",
      "                            &                            &                                      \\\\\n",
      "                            &                            &                                      \\\\\n",
      "                            &                            &                                      \\\\\n",
      "                            &                            &                                      \\\\\n",
      "                            &                            &                                      \\\\\n",
      "                            &                            &                                      \\\\\n",
      "                            &                            &                                      \\\\\n",
      "                            &                            &                                      \\\\\n",
      "                            &                            &                                      \\\\\n",
      "                            &                            &                                      \\\\\n",
      "                            &                            &                                      \\\\\n",
      "                            &                            &                                      \\\\\n",
      "                            &                            &                                      \\\\\n",
      "                            &                            &                                      \\\\\n",
      "                            &                            &                                      \\\\\n",
      "                            &                            &                                      \\\\\n",
      "                            &                            &                                      \\\\\n",
      "                            &                            &                                      \\\\\n",
      "                            &                            &                                      \\\\\n",
      "                            &                            &                                      \\\\\n",
      "                            &                            &                                      \\\\\n",
      "                            &                            &                                      \\\\\n",
      "                            &                            &                                      \\\\\n",
      "                            &                            &                                      \\\\\n",
      "                            &                            &                                      \\\\\n",
      "                            &                            &                                      \\\\\n",
      "                            &                            &                                      \\\\\n",
      "\\bottomrule\n",
      "\\end{tabular}\n",
      "\\end{table}\n",
      "\n"
     ]
    },
    {
     "name": "stderr",
     "output_type": "stream",
     "text": [
      "<ipython-input-29-46b696c14773>:1: FutureWarning: In future versions `DataFrame.to_latex` is expected to utilise the base implementation of `Styler.to_latex` for formatting and rendering. The arguments signature may therefore change. It is recommended instead to use `DataFrame.style.to_latex` which also contains additional functionality.\n",
      "  print(df[['Locally contradictory','No stationary', 'Subexponentially many no homogeneous']].to_latex(index=False, caption='Classification of outer-totalistic CA in the RS case', longtable=False, na_rep=''))\n"
     ]
    }
   ],
   "source": [
    "print(df[['Locally contradictory','No stationary', 'Subexponentially many no homogeneous']].to_latex(index=False, caption='Classification of outer-totalistic CA in the RS case', longtable=False, na_rep=''))"
   ]
  },
  {
   "cell_type": "code",
   "execution_count": 30,
   "id": "intermediate-samuel",
   "metadata": {},
   "outputs": [
    {
     "name": "stdout",
     "output_type": "stream",
     "text": [
      "\\begin{table}\n",
      "\\centering\n",
      "\\caption{Classification of outer-totalistic CA in the RS case}\n",
      "\\begin{tabular}{llll}\n",
      "\\toprule\n",
      "       only homogeneous & Subexponentially many with homogeneous & Exponentially many no homogeneous & Exponentially many with homogeneous \\\\\n",
      "\\midrule\n",
      " ([0, 0, 0, 0], 0.0, 1) &                 ([0, 1, 0, 1], 0.0, 3) &         ([-, 0, +, 0], 0.1016, 2) &           ([0, 0, +, 0], 0.2046, 2) \\\\\n",
      " ([0, 0, 0, +], 0.0, 2) &                 ([+, -, +, -], 0.0, 3) &         ([-, 0, +, -], 0.0523, 2) &           ([0, 0, +, +], 0.4133, 2) \\\\\n",
      " ([0, 0, 0, -], 0.0, 1) &                                        &         ([-, +, 0, 0], 0.2191, 1) &           ([0, 0, +, -], 0.1925, 2) \\\\\n",
      " ([0, 0, 0, 1], 0.0, 2) &                                        &         ([-, +, 0, -], 0.1541, 1) &           ([0, 0, +, 1], 0.3793, 2) \\\\\n",
      " ([0, 0, -, 0], 0.0, 2) &                                        &          ([-, +, +, 0], 0.488, 1) &           ([0, 0, 1, 0], 0.1204, 4) \\\\\n",
      " ([0, 0, -, +], 0.0, 3) &                                        &         ([-, +, +, -], 0.4055, 1) &           ([0, 0, 1, +], 0.2833, 3) \\\\\n",
      " ([0, 0, -, -], 0.0, 1) &                                        &         ([-, +, 1, 0], 0.2149, 2) &            ([0, 0, 1, -], 0.116, 3) \\\\\n",
      " ([0, 0, -, 1], 0.0, 2) &                                        &         ([-, 1, +, 0], 0.3551, 1) &            ([0, 0, 1, 1], 0.235, 3) \\\\\n",
      "([0, -, 0, 0], -0.0, 1) &                                        &         ([-, 1, 1, 0], 0.1893, 1) &           ([0, +, 0, 0], 0.3671, 1) \\\\\n",
      " ([0, -, 0, +], 0.0, 2) &                                        &         ([1, 0, 0, 0], 0.2617, 1) &           ([0, +, 0, +], 0.3967, 2) \\\\\n",
      "([0, -, 0, -], -0.0, 1) &                                        &         ([1, 0, +, 0], 0.2845, 2) &           ([0, +, 0, -], 0.3484, 1) \\\\\n",
      " ([0, -, 0, 1], 0.0, 2) &                                        &         ([1, +, 0, 0], 0.4414, 1) &            ([0, +, 0, 1], 0.374, 2) \\\\\n",
      " ([0, -, +, 0], 0.0, 2) &                                        &         ([1, +, +, 0], 0.5829, 1) &           ([0, +, +, 0], 0.5548, 1) \\\\\n",
      " ([0, -, +, -], 0.0, 2) &                                        &         ([1, +, -, 0], 0.1038, 2) &            ([0, +, +, +], 0.635, 1) \\\\\n",
      "([0, -, -, 0], -0.0, 2) &                                        &          ([1, 1, 0, 0], 0.235, 1) &           ([0, +, +, -], 0.5134, 1) \\\\\n",
      " ([0, -, -, +], 0.0, 4) &                                        &                                   &           ([0, +, +, 1], 0.5829, 1) \\\\\n",
      "([0, -, -, -], -0.0, 1) &                                        &                                   &           ([0, +, -, 0], 0.2443, 2) \\\\\n",
      " ([0, -, -, 1], 0.0, 3) &                                        &                                   &           ([0, +, -, +], 0.2601, 3) \\\\\n",
      " ([0, -, 1, 0], 0.0, 3) &                                        &                                   &           ([0, +, -, -], 0.2359, 2) \\\\\n",
      "([0, -, 1, -], -0.0, 2) &                                        &                                   &           ([0, +, -, 1], 0.2497, 2) \\\\\n",
      " ([0, 1, 0, -], 0.0, 2) &                                        &                                   &           ([0, +, 1, 0], 0.3603, 2) \\\\\n",
      " ([0, 1, -, 0], 0.0, 2) &                                        &                                   &           ([0, +, 1, +], 0.4265, 2) \\\\\n",
      " ([0, 1, -, +], 0.0, 3) &                                        &                                   &           ([0, +, 1, -], 0.3348, 2) \\\\\n",
      " ([0, 1, -, -], 0.0, 2) &                                        &                                   &           ([0, -, +, +], 0.3456, 2) \\\\\n",
      "([0, 1, 1, -], -0.0, 2) &                                        &                                   &           ([0, -, 1, +], 0.2833, 3) \\\\\n",
      " ([+, -, 0, -], 0.0, 2) &                                        &                                   &           ([0, 1, 0, 0], 0.0416, 2) \\\\\n",
      " ([+, -, -, 0], 0.0, 3) &                                        &                                   &           ([0, 1, 0, +], 0.1303, 3) \\\\\n",
      " ([+, -, -, +], 0.0, 3) &                                        &                                   &           ([0, 1, +, 0], 0.3715, 2) \\\\\n",
      "([+, -, -, -], -0.0, 2) &                                        &                                   &           ([0, 1, +, +], 0.5219, 2) \\\\\n",
      " ([+, -, 1, 0], 0.0, 3) &                                        &                                   &           ([0, 1, +, -], 0.2107, 2) \\\\\n",
      "([+, -, 1, -], -0.0, 2) &                                        &                                   &           ([0, 1, 1, 0], 0.1893, 2) \\\\\n",
      " ([+, 1, -, 0], 0.0, 2) &                                        &                                   &           ([0, 1, 1, +], 0.4131, 2) \\\\\n",
      " ([+, 1, -, -], 0.0, 2) &                                        &                                   &           ([+, 0, 0, 0], 0.4354, 1) \\\\\n",
      "([+, 1, 1, -], -0.0, 2) &                                        &                                   &           ([+, 0, 0, +], 0.4354, 2) \\\\\n",
      "                        &                                        &                                   &           ([+, 0, 0, -], 0.4131, 1) \\\\\n",
      "                        &                                        &                                   &           ([+, 0, +, 0], 0.4354, 1) \\\\\n",
      "                        &                                        &                                   &           ([+, 0, +, +], 0.4616, 2) \\\\\n",
      "                        &                                        &                                   &           ([+, 0, +, -], 0.4131, 1) \\\\\n",
      "                        &                                        &                                   &           ([+, 0, -, 0], 0.2938, 2) \\\\\n",
      "                        &                                        &                                   &           ([+, 0, -, +], 0.2938, 3) \\\\\n",
      "                        &                                        &                                   &           ([+, 0, -, -], 0.2833, 2) \\\\\n",
      "                        &                                        &                                   &           ([+, 0, 1, 0], 0.2938, 3) \\\\\n",
      "                        &                                        &                                   &           ([+, 0, 1, +], 0.2964, 4) \\\\\n",
      "                        &                                        &                                   &           ([+, 0, 1, -], 0.2833, 2) \\\\\n",
      "                        &                                        &                                   &           ([+, +, 0, 0], 0.5513, 1) \\\\\n",
      "                        &                                        &                                   &           ([+, +, 0, +], 0.5605, 2) \\\\\n",
      "                        &                                        &                                   &           ([+, +, 0, -], 0.5143, 1) \\\\\n",
      "                        &                                        &                                   &           ([+, +, +, 0], 0.6489, 1) \\\\\n",
      "                        &                                        &                                   &           ([+, +, +, +], 0.6931, 1) \\\\\n",
      "                        &                                        &                                   &           ([+, +, +, -], 0.5975, 1) \\\\\n",
      "                        &                                        &                                   &            ([+, +, -, 0], 0.361, 2) \\\\\n",
      "                        &                                        &                                   &           ([+, +, -, +], 0.3662, 3) \\\\\n",
      "                        &                                        &                                   &           ([+, +, -, -], 0.3415, 2) \\\\\n",
      "                        &                                        &                                   &           ([+, +, 1, 0], 0.4233, 2) \\\\\n",
      "                        &                                        &                                   &             ([+, +, 1, -], 0.39, 2) \\\\\n",
      "                        &                                        &                                   &           ([+, -, 0, 0], 0.0448, 2) \\\\\n",
      "                        &                                        &                                   &           ([+, -, 0, +], 0.0448, 3) \\\\\n",
      "                        &                                        &                                   &           ([+, -, +, 0], 0.1304, 3) \\\\\n",
      "                        &                                        &                                   &           ([+, 1, 0, 0], 0.2681, 2) \\\\\n",
      "                        &                                        &                                   &           ([+, 1, 0, +], 0.2964, 3) \\\\\n",
      "                        &                                        &                                   &           ([+, 1, 0, -], 0.1038, 2) \\\\\n",
      "                        &                                        &                                   &           ([+, 1, +, 0], 0.4584, 2) \\\\\n",
      "                        &                                        &                                   &           ([+, 1, +, -], 0.2782, 2) \\\\\n",
      "                        &                                        &                                   &           ([+, 1, 1, 0], 0.2617, 2) \\\\\n",
      "\\bottomrule\n",
      "\\end{tabular}\n",
      "\\end{table}\n",
      "\n"
     ]
    },
    {
     "name": "stderr",
     "output_type": "stream",
     "text": [
      "<ipython-input-30-83e14fd12030>:1: FutureWarning: In future versions `DataFrame.to_latex` is expected to utilise the base implementation of `Styler.to_latex` for formatting and rendering. The arguments signature may therefore change. It is recommended instead to use `DataFrame.style.to_latex` which also contains additional functionality.\n",
      "  print(df[['only homogeneous','Subexponentially many with homogeneous','Exponentially many no homogeneous','Exponentially many with homogeneous']].to_latex(index=False, caption='Classification of outer-totalistic CA in the RS case', longtable=False, na_rep=''))\n"
     ]
    }
   ],
   "source": [
    "print(df[['only homogeneous','Subexponentially many with homogeneous','Exponentially many no homogeneous','Exponentially many with homogeneous']].to_latex(index=False, caption='Classification of outer-totalistic CA in the RS case', longtable=False, na_rep=''))"
   ]
  }
 ],
 "metadata": {
  "kernelspec": {
   "display_name": "Python 3",
   "language": "python",
   "name": "python3"
  },
  "language_info": {
   "codemirror_mode": {
    "name": "ipython",
    "version": 3
   },
   "file_extension": ".py",
   "mimetype": "text/x-python",
   "name": "python",
   "nbconvert_exporter": "python",
   "pygments_lexer": "ipython3",
   "version": "3.8.5"
  }
 },
 "nbformat": 4,
 "nbformat_minor": 5
}
