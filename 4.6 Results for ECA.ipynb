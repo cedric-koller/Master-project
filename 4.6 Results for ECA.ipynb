{
 "cells": [
  {
   "cell_type": "markdown",
   "id": "handy-concentrate",
   "metadata": {},
   "source": [
    "# 4.6 Results for ECA"
   ]
  },
  {
   "cell_type": "code",
   "execution_count": 1,
   "id": "coupled-minority",
   "metadata": {},
   "outputs": [],
   "source": [
    "import numpy as np\n",
    "import matplotlib.pyplot as plt\n",
    "import pandas as pd\n",
    "\n",
    "from tqdm import tqdm\n",
    "\n",
    "from src.transfer_matrix import *\n",
    "from utils.rules import *\n",
    "from utils.experiments import *\n",
    "\n",
    "import matplotlib.colors as mcolors\n",
    "\n",
    "plt.rcParams.update({'backend': 'pdf', 'font.size': 14, 'font.family': 'serif', 'text.latex.preamble': r'\\usepackage{gensymb}',  'savefig.format':'pdf', \n",
    "                     'lines.linewidth': 2, 'lines.markersize':10, 'lines.markeredgewidth':2, 'figure.constrained_layout.w_pad': 2, 'figure.autolayout' : True})"
   ]
  },
  {
   "cell_type": "markdown",
   "id": "compatible-tanzania",
   "metadata": {},
   "source": [
    "List of the Wolfram numbers of the nonequivalent ECA rules and their Wolfram classification:"
   ]
  },
  {
   "cell_type": "code",
   "execution_count": 2,
   "id": "drawn-briefs",
   "metadata": {},
   "outputs": [],
   "source": [
    "rules=[0, 1, 2, 3, 4, 5, 6, 7, 8, 9, 10, 11, 12, 13, 14, 15, 18, 19, 22, 23, 24, 25, 26, 27, 28, 29, 30, 32, 33, 34, 35, 36, 37, 38, 40, 41, 42, 43, 44, 45, 46, 50, 51, 54, 56, 57, 58, 60, 62, 72, 73, 74, 76, 77, 78, 90, 94, 104, 105, 106, 108, 110, 122, 126, 128, 130, 132, 134, 136, 138, 140, 142, 146, 150, 152, 154, 156, 160, 162, 164, 168, 170, 172, 178, 184, 200, 204, 232]"
   ]
  },
  {
   "cell_type": "code",
   "execution_count": 3,
   "id": "following-importance",
   "metadata": {},
   "outputs": [],
   "source": [
    "Wolfram_class=[1,2,2,2,2,2,2,2,1,2,2,2,2,2,2,2,[2,3],2,[2,3],2,2,2,2,2,2,2,3,1,2,2,2,2,2,2,1,2,2,2,2,3,2,2,2,[2,4],2,2,2,2,2,1,[3,4],2,2,2,2,2,2,1,2,3,1,4,[2,3],[2,3],1,2,2,2,1,2,2,2,[2,3],2,2,[2,3],2,1,2,2,1,2,2,2,2,1,2,1]"
   ]
  },
  {
   "cell_type": "code",
   "execution_count": 4,
   "id": "dated-laundry",
   "metadata": {},
   "outputs": [
    {
     "name": "stderr",
     "output_type": "stream",
     "text": [
      " 11%|█████████▎                                                                        | 10/88 [00:01<00:09,  7.99it/s]"
     ]
    },
    {
     "name": "stdout",
     "output_type": "stream",
     "text": [
      "No convergence for rule 6 ! Final error: 2.557154601198783e-07\n"
     ]
    },
    {
     "name": "stderr",
     "output_type": "stream",
     "text": [
      " 20%|████████████████▊                                                                 | 18/88 [00:02<00:08,  8.36it/s]"
     ]
    },
    {
     "name": "stdout",
     "output_type": "stream",
     "text": [
      "No convergence for rule 14 ! Final error: 2.544134513154878e-07\n"
     ]
    },
    {
     "name": "stderr",
     "output_type": "stream",
     "text": [
      " 33%|███████████████████████████                                                       | 29/88 [00:03<00:06,  8.52it/s]"
     ]
    },
    {
     "name": "stdout",
     "output_type": "stream",
     "text": [
      "No convergence for rule 28 ! Final error: 4.950754006050809e-07\n"
     ]
    },
    {
     "name": "stderr",
     "output_type": "stream",
     "text": [
      " 62%|███████████████████████████████████████████████████▎                              | 55/88 [00:05<00:03,  9.58it/s]"
     ]
    },
    {
     "name": "stdout",
     "output_type": "stream",
     "text": [
      "No convergence for rule 74 ! Final error: 2.4622239685062643e-07\n"
     ]
    },
    {
     "name": "stderr",
     "output_type": "stream",
     "text": [
      " 75%|█████████████████████████████████████████████████████████████▌                    | 66/88 [00:05<00:01, 17.77it/s]"
     ]
    },
    {
     "name": "stdout",
     "output_type": "stream",
     "text": [
      "No convergence for rule 134 ! Final error: 4.25991921376693e-07\n"
     ]
    },
    {
     "name": "stderr",
     "output_type": "stream",
     "text": [
      " 81%|██████████████████████████████████████████████████████████████████▏               | 71/88 [00:07<00:02,  5.90it/s]"
     ]
    },
    {
     "name": "stdout",
     "output_type": "stream",
     "text": [
      "No convergence for rule 136 ! Final error: 1.9947324843500383e-07\n",
      "No convergence for rule 142 ! Final error: 2.1333832645138925e-07"
     ]
    },
    {
     "name": "stderr",
     "output_type": "stream",
     "text": [
      " 83%|████████████████████████████████████████████████████████████████████              | 73/88 [00:08<00:03,  4.45it/s]"
     ]
    },
    {
     "name": "stdout",
     "output_type": "stream",
     "text": [
      "\n"
     ]
    },
    {
     "name": "stderr",
     "output_type": "stream",
     "text": [
      " 85%|█████████████████████████████████████████████████████████████████████▉            | 75/88 [00:08<00:03,  3.78it/s]"
     ]
    },
    {
     "name": "stdout",
     "output_type": "stream",
     "text": [
      "No convergence for rule 152 ! Final error: 6.763080041171869e-07\n"
     ]
    },
    {
     "name": "stderr",
     "output_type": "stream",
     "text": [
      " 94%|█████████████████████████████████████████████████████████████████████████████▎    | 83/88 [00:10<00:01,  4.48it/s]"
     ]
    },
    {
     "name": "stdout",
     "output_type": "stream",
     "text": [
      "No convergence for rule 156 ! Final error: 9.750443169022468e-07\n",
      "No convergence for rule 168 ! Final error: 2.1579234456628026e-07\n"
     ]
    },
    {
     "name": "stderr",
     "output_type": "stream",
     "text": [
      "100%|██████████████████████████████████████████████████████████████████████████████████| 88/88 [00:11<00:00,  7.56it/s]"
     ]
    },
    {
     "name": "stdout",
     "output_type": "stream",
     "text": [
      "No convergence for rule 184 ! Final error: 4.48355345314014e-07\n"
     ]
    },
    {
     "name": "stderr",
     "output_type": "stream",
     "text": [
      "\n"
     ]
    }
   ],
   "source": [
    "d=[2]\n",
    "mu_list=[0]\n",
    "df_RS=rs_calculation(rule_list=[wolfram_to_new_notation(i) for i in rules], d_list=d, mu_list=mu_list, tol=1e-12, max_iter=10000, damping_parameter=0.95)"
   ]
  },
  {
   "cell_type": "code",
   "execution_count": 5,
   "id": "further-forum",
   "metadata": {},
   "outputs": [
    {
     "name": "stderr",
     "output_type": "stream",
     "text": [
      "C:\\Users\\user\\OneDrive\\EPFL\\travail de master\\Playground CA\\src\\transfer_matrix.py:23: RuntimeWarning: divide by zero encountered in log\n",
      "  return np.log(max(eig.real))\n"
     ]
    }
   ],
   "source": [
    "density_TM=[]\n",
    "entropy_TM=[]\n",
    "free_entropy_TM=[]\n",
    "mu_list_=[0]\n",
    "for rule in rules:\n",
    "    density, entropy, free_entropy=transfer_matrix_density_entropy(rule_array=wolfram_number_to_binary(rule), mu_list=mu_list_)\n",
    "    density_TM.append(density)\n",
    "    entropy_TM.append(entropy)\n",
    "    free_entropy_TM.append(free_entropy)"
   ]
  },
  {
   "cell_type": "code",
   "execution_count": 6,
   "id": "anonymous-aircraft",
   "metadata": {},
   "outputs": [],
   "source": [
    "free_entropy_TM=[el[0] for el in free_entropy_TM]"
   ]
  },
  {
   "cell_type": "code",
   "execution_count": 7,
   "id": "productive-laugh",
   "metadata": {},
   "outputs": [],
   "source": [
    "dic={'rule': rules, 'Wolfram class': Wolfram_class, 'Free entropy RS': df_RS['free_entropy'].tolist(), 'Free entropy TM': free_entropy_TM}"
   ]
  },
  {
   "cell_type": "code",
   "execution_count": 8,
   "id": "monthly-enterprise",
   "metadata": {},
   "outputs": [],
   "source": [
    "df=pd.DataFrame(dic)"
   ]
  },
  {
   "cell_type": "code",
   "execution_count": 9,
   "id": "difficult-tactics",
   "metadata": {},
   "outputs": [
    {
     "data": {
      "text/html": [
       "<div>\n",
       "<style scoped>\n",
       "    .dataframe tbody tr th:only-of-type {\n",
       "        vertical-align: middle;\n",
       "    }\n",
       "\n",
       "    .dataframe tbody tr th {\n",
       "        vertical-align: top;\n",
       "    }\n",
       "\n",
       "    .dataframe thead th {\n",
       "        text-align: right;\n",
       "    }\n",
       "</style>\n",
       "<table border=\"1\" class=\"dataframe\">\n",
       "  <thead>\n",
       "    <tr style=\"text-align: right;\">\n",
       "      <th></th>\n",
       "      <th>rule</th>\n",
       "      <th>Wolfram class</th>\n",
       "      <th>Free entropy RS</th>\n",
       "      <th>Free entropy TM</th>\n",
       "    </tr>\n",
       "  </thead>\n",
       "  <tbody>\n",
       "    <tr>\n",
       "      <th>0</th>\n",
       "      <td>0</td>\n",
       "      <td>1</td>\n",
       "      <td>0.00000</td>\n",
       "      <td>0.00000</td>\n",
       "    </tr>\n",
       "    <tr>\n",
       "      <th>1</th>\n",
       "      <td>1</td>\n",
       "      <td>2</td>\n",
       "      <td>-25.03074</td>\n",
       "      <td>-inf</td>\n",
       "    </tr>\n",
       "    <tr>\n",
       "      <th>2</th>\n",
       "      <td>2</td>\n",
       "      <td>2</td>\n",
       "      <td>-0.00000</td>\n",
       "      <td>0.00000</td>\n",
       "    </tr>\n",
       "    <tr>\n",
       "      <th>3</th>\n",
       "      <td>3</td>\n",
       "      <td>2</td>\n",
       "      <td>-26.04654</td>\n",
       "      <td>-inf</td>\n",
       "    </tr>\n",
       "    <tr>\n",
       "      <th>4</th>\n",
       "      <td>4</td>\n",
       "      <td>2</td>\n",
       "      <td>0.48121</td>\n",
       "      <td>0.48121</td>\n",
       "    </tr>\n",
       "    <tr>\n",
       "      <th>...</th>\n",
       "      <td>...</td>\n",
       "      <td>...</td>\n",
       "      <td>...</td>\n",
       "      <td>...</td>\n",
       "    </tr>\n",
       "    <tr>\n",
       "      <th>83</th>\n",
       "      <td>178</td>\n",
       "      <td>2</td>\n",
       "      <td>0.00000</td>\n",
       "      <td>0.00000</td>\n",
       "    </tr>\n",
       "    <tr>\n",
       "      <th>84</th>\n",
       "      <td>184</td>\n",
       "      <td>2</td>\n",
       "      <td>0.00192</td>\n",
       "      <td>0.00000</td>\n",
       "    </tr>\n",
       "    <tr>\n",
       "      <th>85</th>\n",
       "      <td>200</td>\n",
       "      <td>1</td>\n",
       "      <td>0.56240</td>\n",
       "      <td>0.56240</td>\n",
       "    </tr>\n",
       "    <tr>\n",
       "      <th>86</th>\n",
       "      <td>204</td>\n",
       "      <td>2</td>\n",
       "      <td>0.69315</td>\n",
       "      <td>0.69315</td>\n",
       "    </tr>\n",
       "    <tr>\n",
       "      <th>87</th>\n",
       "      <td>232</td>\n",
       "      <td>1</td>\n",
       "      <td>0.48121</td>\n",
       "      <td>0.48121</td>\n",
       "    </tr>\n",
       "  </tbody>\n",
       "</table>\n",
       "<p>88 rows × 4 columns</p>\n",
       "</div>"
      ],
      "text/plain": [
       "    rule Wolfram class  Free entropy RS  Free entropy TM\n",
       "0      0             1          0.00000          0.00000\n",
       "1      1             2        -25.03074             -inf\n",
       "2      2             2         -0.00000          0.00000\n",
       "3      3             2        -26.04654             -inf\n",
       "4      4             2          0.48121          0.48121\n",
       "..   ...           ...              ...              ...\n",
       "83   178             2          0.00000          0.00000\n",
       "84   184             2          0.00192          0.00000\n",
       "85   200             1          0.56240          0.56240\n",
       "86   204             2          0.69315          0.69315\n",
       "87   232             1          0.48121          0.48121\n",
       "\n",
       "[88 rows x 4 columns]"
      ]
     },
     "execution_count": 9,
     "metadata": {},
     "output_type": "execute_result"
    }
   ],
   "source": [
    "df.round(5)"
   ]
  },
  {
   "cell_type": "code",
   "execution_count": 10,
   "id": "owned-garage",
   "metadata": {},
   "outputs": [],
   "source": [
    "# Printing the table: \n",
    "print(df.round(5).to_latex(longtable=False, caption='ECA, their Wolfram classification and their free entropy from BP and transfer matrix calculation.', index=False))"
   ]
  },
  {
   "cell_type": "markdown",
   "id": "dried-eating",
   "metadata": {},
   "source": [
    "## Free entropy as function of the Wolfram classes"
   ]
  },
  {
   "cell_type": "code",
   "execution_count": 11,
   "id": "acquired-cologne",
   "metadata": {},
   "outputs": [],
   "source": [
    "Wolfram_class=[1,2,2,2,2,2,2,2,1,2,2,2,2,2,2,2,3,2,3,2,2,2,2,2,2,2,3,1,2,2,2,2,2,2,1,2,2,2,2,3,2,2,2,4,2,2,2,2,2,1,4,2,2,2,2,2,2,1,2,3,1,4,3,3,1,2,2,2,1,2,2,2,3,2,2,3,2,1,2,2,1,2,2,2,2,1,2,1]"
   ]
  },
  {
   "cell_type": "code",
   "execution_count": 12,
   "id": "familiar-label",
   "metadata": {},
   "outputs": [],
   "source": [
    "Wolfram_mult_classes_rules=[18,22, 54, 73, 122, 126, 146, 154]\n",
    "Wolfram_mult_classes=[2,2,2,3,2,2,2,2]"
   ]
  },
  {
   "cell_type": "code",
   "execution_count": 13,
   "id": "generic-acting",
   "metadata": {},
   "outputs": [],
   "source": [
    "ECA_classification_matrix=[[],[],[],[]]\n",
    "for i,rule in enumerate(rules):\n",
    "    ECA_classification_matrix[Wolfram_class[i]-1].append(rule)\n",
    "for i, rule in enumerate(Wolfram_mult_classes_rules):\n",
    "    ECA_classification_matrix[Wolfram_mult_classes[i]-1].append(rule)    "
   ]
  },
  {
   "cell_type": "code",
   "execution_count": 14,
   "id": "boring-hartford",
   "metadata": {},
   "outputs": [],
   "source": [
    "ECA_entropy_matrix=ECA_classification_matrix\n",
    "for i in range(4):\n",
    "    for j,rule in enumerate(ECA_classification_matrix[i]):\n",
    "        ECA_entropy_matrix[i][j]=free_entropy_TM[rules.index(rule)]"
   ]
  },
  {
   "cell_type": "code",
   "execution_count": 15,
   "id": "vocational-chinese",
   "metadata": {},
   "outputs": [
    {
     "data": {
      "text/plain": [
       "array([ 1,  2,  3, -1])"
      ]
     },
     "execution_count": 15,
     "metadata": {},
     "output_type": "execute_result"
    }
   ],
   "source": [
    "np.maximum([1,2,3,-2],-1)"
   ]
  },
  {
   "cell_type": "code",
   "execution_count": 16,
   "id": "municipal-interval",
   "metadata": {},
   "outputs": [],
   "source": [
    "unique_1, counts_1=np.unique(np.maximum(ECA_entropy_matrix[0],-0.2).round(10), return_counts=True)\n",
    "unique_2, counts_2=np.unique(np.maximum(ECA_entropy_matrix[1],-0.2).round(10), return_counts=True)\n",
    "unique_3, counts_3=np.unique(np.maximum(ECA_entropy_matrix[2],-0.2).round(10), return_counts=True)\n",
    "unique_4, counts_4=np.unique(np.maximum(ECA_entropy_matrix[3],-0.2).round(10), return_counts=True)"
   ]
  },
  {
   "cell_type": "code",
   "execution_count": 17,
   "id": "artistic-serial",
   "metadata": {},
   "outputs": [
    {
     "name": "stderr",
     "output_type": "stream",
     "text": [
      "<ipython-input-17-3e546687ec17>:25: UserWarning: FixedFormatter should only be used together with FixedLocator\n",
      "  ax.set_yticklabels(a)\n"
     ]
    },
    {
     "data": {
      "image/png": "[encoded data removed]",
      "text/plain": [
       "<Figure size 432x288 with 1 Axes>"
      ]
     },
     "metadata": {
      "needs_background": "light"
     },
     "output_type": "display_data"
    }
   ],
   "source": [
    "fig, ax=plt.subplots()\n",
    "colors=list(mcolors.TABLEAU_COLORS)\n",
    "for i, Wclass in enumerate(Wolfram_class):\n",
    "    if rules[i] not in Wolfram_mult_classes_rules:\n",
    "        ax.scatter(Wclass, free_entropy_TM[i] if free_entropy_TM[i]>-1 else -0.2, color=colors[Wclass], s=50)\n",
    "    else:\n",
    "        ax.scatter(Wclass, free_entropy_TM[i] if free_entropy_TM[i]>-1 else -0.2, color=colors[Wclass], marker='x')\n",
    "for i, Wclass in enumerate(Wolfram_mult_classes):\n",
    "    idx=rules.index(Wolfram_mult_classes_rules[i])\n",
    "    ax.scatter(Wclass, free_entropy_TM[idx] if free_entropy_TM[idx]>-1 else -0.2, color=colors[Wclass], marker='x')\n",
    "for i, counts in enumerate(counts_1):\n",
    "    ax.text(1+0.05, unique_1[i], counts)\n",
    "for i, counts in enumerate(counts_2):\n",
    "    ax.text(2+0.05, unique_2[i], counts)\n",
    "for i, counts in enumerate(counts_3):\n",
    "    ax.text(3+0.05, unique_3[i], counts)\n",
    "for i, counts in enumerate(counts_4):\n",
    "    ax.text(4+0.05, unique_4[i], counts)\n",
    "ax.set_ylabel(r'$\\phi$')\n",
    "ax.set_title\n",
    "\n",
    "a=ax.get_yticks().tolist()\n",
    "a[1]='$-\\infty$'\n",
    "a[3]=0.2\n",
    "ax.set_yticklabels(a)\n",
    "ax.set_ylim([-0.3,0.75])\n",
    "\n",
    "ax.set_xticks([1,2,3,4], ['Class 1', 'Class 2', 'Class 3', 'Class 4']);\n",
    "\n",
    "fig.savefig('figures\\phi_vs_classification_ECA.pdf')"
   ]
  }
 ],
 "metadata": {
  "kernelspec": {
   "display_name": "Python 3",
   "language": "python",
   "name": "python3"
  },
  "language_info": {
   "codemirror_mode": {
    "name": "ipython",
    "version": 3
   },
   "file_extension": ".py",
   "mimetype": "text/x-python",
   "name": "python",
   "nbconvert_exporter": "python",
   "pygments_lexer": "ipython3",
   "version": "3.8.5"
  }
 },
 "nbformat": 4,
 "nbformat_minor": 5
}
